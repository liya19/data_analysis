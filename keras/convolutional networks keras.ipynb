{
 "cells": [
  {
   "cell_type": "markdown",
   "metadata": {},
   "source": [
    "# Сверточная нейронная сеть"
   ]
  },
  {
   "cell_type": "code",
   "execution_count": 1,
   "metadata": {},
   "outputs": [
    {
     "name": "stdout",
     "output_type": "stream",
     "text": [
      "Requirement already up-to-date: tensorflow in c:\\users\\liya\\anaconda3\\lib\\site-packages (2.3.1)\n",
      "Requirement already satisfied, skipping upgrade: tensorflow-estimator<2.4.0,>=2.3.0 in c:\\users\\liya\\anaconda3\\lib\\site-packages (from tensorflow) (2.3.0)\n",
      "Note: you may need to restart the kernel to use updated packages.Requirement already satisfied, skipping upgrade: termcolor>=1.1.0 in c:\\users\\liya\\anaconda3\\lib\\site-packages (from tensorflow) (1.1.0)\n",
      "Requirement already satisfied, skipping upgrade: grpcio>=1.8.6 in c:\\users\\liya\\anaconda3\\lib\\site-packages (from tensorflow) (1.33.2)\n",
      "Requirement already satisfied, skipping upgrade: wheel>=0.26 in c:\\users\\liya\\anaconda3\\lib\\site-packages (from tensorflow) (0.35.1)\n",
      "Requirement already satisfied, skipping upgrade: gast==0.3.3 in c:\\users\\liya\\anaconda3\\lib\\site-packages (from tensorflow) (0.3.3)\n",
      "Collecting numpy<1.19.0,>=1.16.0\n",
      "  Using cached numpy-1.18.5-cp38-cp38-win_amd64.whl (12.8 MB)\n",
      "Requirement already satisfied, skipping upgrade: tensorboard<3,>=2.3.0 in c:\\users\\liya\\anaconda3\\lib\\site-packages (from tensorflow) (2.4.0)\n",
      "Requirement already satisfied, skipping upgrade: wrapt>=1.11.1 in c:\\users\\liya\\anaconda3\\lib\\site-packages (from tensorflow) (1.12.1)\n",
      "Requirement already satisfied, skipping upgrade: astunparse==1.6.3 in c:\\users\\liya\\anaconda3\\lib\\site-packages (from tensorflow) (1.6.3)\n",
      "Requirement already satisfied, skipping upgrade: keras-preprocessing<1.2,>=1.1.1 in c:\\users\\liya\\anaconda3\\lib\\site-packages (from tensorflow) (1.1.2)\n",
      "Requirement already satisfied, skipping upgrade: six>=1.12.0 in c:\\users\\liya\\anaconda3\\lib\\site-packages (from tensorflow) (1.15.0)\n",
      "Requirement already satisfied, skipping upgrade: opt-einsum>=2.3.2 in c:\\users\\liya\\anaconda3\\lib\\site-packages (from tensorflow) (3.3.0)\n",
      "Requirement already satisfied, skipping upgrade: absl-py>=0.7.0 in c:\\users\\liya\\anaconda3\\lib\\site-packages (from tensorflow) (0.11.0)\n",
      "Collecting h5py<2.11.0,>=2.10.0\n",
      "  Using cached h5py-2.10.0-cp38-cp38-win_amd64.whl (2.5 MB)\n",
      "Requirement already satisfied, skipping upgrade: google-pasta>=0.1.8 in c:\\users\\liya\\anaconda3\\lib\\site-packages (from tensorflow) (0.2.0)\n",
      "Requirement already satisfied, skipping upgrade: protobuf>=3.9.2 in c:\\users\\liya\\anaconda3\\lib\\site-packages (from tensorflow) (3.14.0)\n",
      "Requirement already satisfied, skipping upgrade: werkzeug>=0.11.15 in c:\\users\\liya\\anaconda3\\lib\\site-packages (from tensorboard<3,>=2.3.0->tensorflow) (1.0.1)\n",
      "Requirement already satisfied, skipping upgrade: tensorboard-plugin-wit>=1.6.0 in c:\\users\\liya\\anaconda3\\lib\\site-packages (from tensorboard<3,>=2.3.0->tensorflow) (1.7.0)\n",
      "Requirement already satisfied, skipping upgrade: markdown>=2.6.8 in c:\\users\\liya\\anaconda3\\lib\\site-packages (from tensorboard<3,>=2.3.0->tensorflow) (3.3.3)\n",
      "Requirement already satisfied, skipping upgrade: google-auth<2,>=1.6.3 in c:\\users\\liya\\anaconda3\\lib\\site-packages (from tensorboard<3,>=2.3.0->tensorflow) (1.23.0)\n"
     ]
    },
    {
     "name": "stderr",
     "output_type": "stream",
     "text": [
      "ERROR: Could not install packages due to an EnvironmentError: [WinError 5] Отказано в доступе: 'C:\\\\Users\\\\Liya\\\\anaconda3\\\\Lib\\\\site-packages\\\\numpy\\\\random\\\\_bit_generator.cp38-win_amd64.pyd'\n",
      "Consider using the `--user` option or check the permissions.\n",
      "\n"
     ]
    },
    {
     "name": "stdout",
     "output_type": "stream",
     "text": [
      "\n",
      "Requirement already satisfied, skipping upgrade: setuptools>=41.0.0 in c:\\users\\liya\\anaconda3\\lib\\site-packages (from tensorboard<3,>=2.3.0->tensorflow) (50.3.2)\n",
      "Requirement already satisfied, skipping upgrade: google-auth-oauthlib<0.5,>=0.4.1 in c:\\users\\liya\\anaconda3\\lib\\site-packages (from tensorboard<3,>=2.3.0->tensorflow) (0.4.2)\n",
      "Requirement already satisfied, skipping upgrade: requests<3,>=2.21.0 in c:\\users\\liya\\anaconda3\\lib\\site-packages (from tensorboard<3,>=2.3.0->tensorflow) (2.25.0)\n",
      "Requirement already satisfied, skipping upgrade: cachetools<5.0,>=2.0.0 in c:\\users\\liya\\anaconda3\\lib\\site-packages (from google-auth<2,>=1.6.3->tensorboard<3,>=2.3.0->tensorflow) (4.1.1)\n",
      "Requirement already satisfied, skipping upgrade: pyasn1-modules>=0.2.1 in c:\\users\\liya\\anaconda3\\lib\\site-packages (from google-auth<2,>=1.6.3->tensorboard<3,>=2.3.0->tensorflow) (0.2.8)\n",
      "Requirement already satisfied, skipping upgrade: rsa<5,>=3.1.4; python_version >= \"3.5\" in c:\\users\\liya\\anaconda3\\lib\\site-packages (from google-auth<2,>=1.6.3->tensorboard<3,>=2.3.0->tensorflow) (4.6)\n",
      "Requirement already satisfied, skipping upgrade: requests-oauthlib>=0.7.0 in c:\\users\\liya\\anaconda3\\lib\\site-packages (from google-auth-oauthlib<0.5,>=0.4.1->tensorboard<3,>=2.3.0->tensorflow) (1.3.0)\n",
      "Requirement already satisfied, skipping upgrade: urllib3<1.27,>=1.21.1 in c:\\users\\liya\\anaconda3\\lib\\site-packages (from requests<3,>=2.21.0->tensorboard<3,>=2.3.0->tensorflow) (1.26.2)\n",
      "Requirement already satisfied, skipping upgrade: idna<3,>=2.5 in c:\\users\\liya\\anaconda3\\lib\\site-packages (from requests<3,>=2.21.0->tensorboard<3,>=2.3.0->tensorflow) (2.10)\n",
      "Requirement already satisfied, skipping upgrade: chardet<4,>=3.0.2 in c:\\users\\liya\\anaconda3\\lib\\site-packages (from requests<3,>=2.21.0->tensorboard<3,>=2.3.0->tensorflow) (3.0.4)\n",
      "Requirement already satisfied, skipping upgrade: certifi>=2017.4.17 in c:\\users\\liya\\anaconda3\\lib\\site-packages (from requests<3,>=2.21.0->tensorboard<3,>=2.3.0->tensorflow) (2020.11.8)\n",
      "Requirement already satisfied, skipping upgrade: pyasn1<0.5.0,>=0.4.6 in c:\\users\\liya\\anaconda3\\lib\\site-packages (from pyasn1-modules>=0.2.1->google-auth<2,>=1.6.3->tensorboard<3,>=2.3.0->tensorflow) (0.4.8)\n",
      "Requirement already satisfied, skipping upgrade: oauthlib>=3.0.0 in c:\\users\\liya\\anaconda3\\lib\\site-packages (from requests-oauthlib>=0.7.0->google-auth-oauthlib<0.5,>=0.4.1->tensorboard<3,>=2.3.0->tensorflow) (3.1.0)\n",
      "Installing collected packages: numpy, h5py\n",
      "  Attempting uninstall: numpy\n",
      "    Found existing installation: numpy 1.19.4\n",
      "    Uninstalling numpy-1.19.4:\n",
      "      Successfully uninstalled numpy-1.19.4\n",
      "  Rolling back uninstall of numpy\n",
      "  Moving to c:\\users\\liya\\anaconda3\\lib\\site-packages\\numpy-1.19.4.dist-info\\\n",
      "   from C:\\Users\\Liya\\anaconda3\\Lib\\site-packages\\~umpy-1.19.4.dist-info\n",
      "  Moving to c:\\users\\liya\\anaconda3\\lib\\site-packages\\numpy\\.libs\\libopenblas.noijjg62emaszi6nyurl6jbkm4evbgm7.gfortran-win_amd64.dll\n",
      "   from C:\\Users\\Liya\\AppData\\Local\\Temp\\pip-uninstall-uloqrv_7\\libopenblas.noijjg62emaszi6nyurl6jbkm4evbgm7.gfortran-win_amd64.dll\n",
      "  Moving to c:\\users\\liya\\anaconda3\\lib\\site-packages\\numpy\\__config__.py\n",
      "   from C:\\Users\\Liya\\AppData\\Local\\Temp\\pip-uninstall-2bdgig3c\\__config__.py\n",
      "  Moving to c:\\users\\liya\\anaconda3\\lib\\site-packages\\numpy\\__init__.cython-30.pxd\n",
      "   from C:\\Users\\Liya\\AppData\\Local\\Temp\\pip-uninstall-2bdgig3c\\__init__.cython-30.pxd\n",
      "  Moving to c:\\users\\liya\\anaconda3\\lib\\site-packages\\numpy\\__init__.pxd\n",
      "   from C:\\Users\\Liya\\AppData\\Local\\Temp\\pip-uninstall-2bdgig3c\\__init__.pxd\n",
      "  Moving to c:\\users\\liya\\anaconda3\\lib\\site-packages\\numpy\\__init__.py"
     ]
    }
   ],
   "source": [
    "pip install --upgrade tensorflow"
   ]
  },
  {
   "cell_type": "code",
   "execution_count": 2,
   "metadata": {},
   "outputs": [
    {
     "name": "stdout",
     "output_type": "stream",
     "text": [
      "\n",
      "   from C:\\Users\\Liya\\AppData\\Local\\Temp\\pip-uninstall-2bdgig3c\\__init__.py\n",
      "  Moving to c:\\users\\liya\\anaconda3\\lib\\site-packages\\numpy\\__pycache__\\\n",
      "   from C:\\Users\\Liya\\anaconda3\\Lib\\site-packages\\numpy\\~_pycache__\n",
      "  Moving to c:\\users\\liya\\anaconda3\\lib\\site-packages\\numpy\\_distributor_init.py\n",
      "   from C:\\Users\\Liya\\AppData\\Local\\Temp\\pip-uninstall-2bdgig3c\\_distributor_init.py\n",
      "  Moving to c:\\users\\liya\\anaconda3\\lib\\site-packages\\numpy\\_globals.py\n",
      "   from C:\\Users\\Liya\\AppData\\Local\\Temp\\pip-uninstall-2bdgig3c\\_globals.py\n",
      "  Moving to c:\\users\\liya\\anaconda3\\lib\\site-packages\\numpy\\_pytesttester.py\n",
      "   from C:\\Users\\Liya\\AppData\\Local\\Temp\\pip-uninstall-2bdgig3c\\_pytesttester.py\n",
      "  Moving to c:\\users\\liya\\anaconda3\\lib\\site-packages\\numpy\\compat\\\n",
      "   from C:\\Users\\Liya\\anaconda3\\Lib\\site-packages\\numpy\\~ompat\n",
      "  Moving to c:\\users\\liya\\anaconda3\\lib\\site-packages\\numpy\\conftest.py\n",
      "   from C:\\Users\\Liya\\AppData\\Local\\Temp\\pip-uninstall-2bdgig3c\\conftest.py\n",
      "  Moving to c:\\users\\liya\\anaconda3\\lib\\site-packages\\numpy\\core\\__init__.py\n",
      "   from C:\\Users\\Liya\\AppData\\Local\\Temp\\pip-uninstall-2bdgig3c\\core\\__init__.py\n",
      "  Moving to c:\\users\\liya\\anaconda3\\lib\\site-packages\\numpy\\core\\__pycache__\\\n",
      "   from C:\\Users\\Liya\\anaconda3\\Lib\\site-packages\\numpy\\core\\~_pycache__\n",
      "  Moving to c:\\users\\liya\\anaconda3\\lib\\site-packages\\numpy\\core\\_add_newdocs.py\n",
      "   from C:\\Users\\Liya\\AppData\\Local\\Temp\\pip-uninstall-2bdgig3c\\core\\_add_newdocs.py\n",
      "  Moving to c:\\users\\liya\\anaconda3\\lib\\site-packages\\numpy\\core\\_asarray.py\n",
      "   from C:\\Users\\Liya\\AppData\\Local\\Temp\\pip-uninstall-2bdgig3c\\core\\_asarray.py\n",
      "  Moving to c:\\users\\liya\\anaconda3\\lib\\site-packages\\numpy\\core\\_dtype.py\n",
      "   from C:\\Users\\Liya\\AppData\\Local\\Temp\\pip-uninstall-2bdgig3c\\core\\_dtype.py\n",
      "  Moving to c:\\users\\liya\\anaconda3\\lib\\site-packages\\numpy\\core\\_dtype_ctypes.py\n",
      "   from C:\\Users\\Liya\\AppData\\Local\\Temp\\pip-uninstall-2bdgig3c\\core\\_dtype_ctypes.py\n",
      "  Moving to c:\\users\\liya\\anaconda3\\lib\\site-packages\\numpy\\core\\_exceptions.py\n",
      "   from C:\\Users\\Liya\\AppData\\Local\\Temp\\pip-uninstall-2bdgig3c\\core\\_exceptions.py\n",
      "  Moving to c:\\users\\liya\\anaconda3\\lib\\site-packages\\numpy\\core\\_internal.py\n",
      "   from C:\\Users\\Liya\\AppData\\Local\\Temp\\pip-uninstall-2bdgig3c\\core\\_internal.py\n",
      "  Moving to c:\\users\\liya\\anaconda3\\lib\\site-packages\\numpy\\core\\_methods.py\n",
      "   from C:\\Users\\Liya\\AppData\\Local\\Temp\\pip-uninstall-2bdgig3c\\core\\_methods.py\n",
      "  Moving to c:\\users\\liya\\anaconda3\\lib\\site-packages\\numpy\\core\\_multiarray_tests.cp38-win_amd64.pyd\n",
      "   from C:\\Users\\Liya\\AppData\\Local\\Temp\\pip-uninstall-2bdgig3c\\core\\_multiarray_tests.cp38-win_amd64.pyd\n",
      "  Moving to c:\\users\\liya\\anaconda3\\lib\\site-packages\\numpy\\core\\_multiarray_umath.cp38-win_amd64.pyd\n",
      "   from C:\\Users\\Liya\\AppData\\Local\\Temp\\pip-uninstall-2bdgig3c\\core\\_multiarray_umath.cp38-win_amd64.pyd\n",
      "  Moving to c:\\users\\liya\\anaconda3\\lib\\site-packages\\numpy\\core\\_operand_flag_tests.cp38-win_amd64.pyd\n",
      "   from C:\\Users\\Liya\\AppData\\Local\\Temp\\pip-uninstall-2bdgig3c\\core\\_operand_flag_tests.cp38-win_amd64.pyd\n",
      "  Moving to c:\\users\\liya\\anaconda3\\lib\\site-packages\\numpy\\core\\_rational_tests.cp38-win_amd64.pyd\n",
      "   from C:\\Users\\Liya\\AppData\\Local\\Temp\\pip-uninstall-2bdgig3c\\core\\_rational_tests.cp38-win_amd64.pyd\n",
      "  Moving to c:\\users\\liya\\anaconda3\\lib\\site-packages\\numpy\\core\\_string_helpers.py\n",
      "   from C:\\Users\\Liya\\AppData\\Local\\Temp\\pip-uninstall-2bdgig3c\\core\\_string_helpers.py\n",
      "  Moving to c:\\users\\liya\\anaconda3\\lib\\site-packages\\numpy\\core\\_struct_ufunc_tests.cp38-win_amd64.pyd\n",
      "   from C:\\Users\\Liya\\AppData\\Local\\Temp\\pip-uninstall-2bdgig3c\\core\\_struct_ufunc_tests.cp38-win_amd64.pyd\n",
      "  Moving to c:\\users\\liya\\anaconda3\\lib\\site-packages\\numpy\\core\\_type_aliases.py\n",
      "   from C:\\Users\\Liya\\AppData\\Local\\Temp\\pip-uninstall-2bdgig3c\\core\\_type_aliases.py\n",
      "  Moving to c:\\users\\liya\\anaconda3\\lib\\site-packages\\numpy\\core\\_ufunc_config.py\n",
      "   from C:\\Users\\Liya\\AppData\\Local\\Temp\\pip-uninstall-2bdgig3c\\core\\_ufunc_config.py\n",
      "  Moving to c:\\users\\liya\\anaconda3\\lib\\site-packages\\numpy\\core\\_umath_tests.cp38-win_amd64.pyd\n",
      "   from C:\\Users\\Liya\\AppData\\Local\\Temp\\pip-uninstall-2bdgig3c\\core\\_umath_tests.cp38-win_amd64.pyd\n",
      "  Moving to c:\\users\\liya\\anaconda3\\lib\\site-packages\\numpy\\core\\arrayprint.py\n",
      "   from C:\\Users\\Liya\\AppData\\Local\\Temp\\pip-uninstall-2bdgig3c\\core\\arrayprint.py\n",
      "  Moving to c:\\users\\liya\\anaconda3\\lib\\site-packages\\numpy\\core\\cversions.py\n",
      "   from C:\\Users\\Liya\\AppData\\Local\\Temp\\pip-uninstall-2bdgig3c\\core\\cversions.py\n",
      "  Moving to c:\\users\\liya\\anaconda3\\lib\\site-packages\\numpy\\core\\defchararray.py\n",
      "   from C:\\Users\\Liya\\AppData\\Local\\Temp\\pip-uninstall-2bdgig3c\\core\\defchararray.py\n",
      "  Moving to c:\\users\\liya\\anaconda3\\lib\\site-packages\\numpy\\core\\einsumfunc.py\n",
      "   from C:\\Users\\Liya\\AppData\\Local\\Temp\\pip-uninstall-2bdgig3c\\core\\einsumfunc.py\n",
      "  Moving to c:\\users\\liya\\anaconda3\\lib\\site-packages\\numpy\\core\\fromnumeric.py\n",
      "   from C:\\Users\\Liya\\AppData\\Local\\Temp\\pip-uninstall-2bdgig3c\\core\\fromnumeric.py\n",
      "  Moving to c:\\users\\liya\\anaconda3\\lib\\site-packages\\numpy\\core\\function_base.py\n",
      "   from C:\\Users\\Liya\\AppData\\Local\\Temp\\pip-uninstall-2bdgig3c\\core\\function_base.py\n",
      "  Moving to c:\\users\\liya\\anaconda3\\lib\\site-packages\\numpy\\core\\generate_numpy_api.py\n",
      "   from C:\\Users\\Liya\\AppData\\Local\\Temp\\pip-uninstall-2bdgig3c\\core\\generate_numpy_api.py\n",
      "  Moving to c:\\users\\liya\\anaconda3\\lib\\site-packages\\numpy\\core\\getlimits.py\n",
      "   from C:\\Users\\Liya\\AppData\\Local\\Temp\\pip-uninstall-2bdgig3c\\core\\getlimits.py\n",
      "  Moving to c:\\users\\liya\\anaconda3\\lib\\site-packages\\numpy\\core\\include\\numpy\\\n",
      "   from C:\\Users\\Liya\\anaconda3\\Lib\\site-packages\\numpy\\core\\include\\~umpy\n",
      "  Moving to c:\\users\\liya\\anaconda3\\lib\\site-packages\\numpy\\core\\lib\\\n",
      "   from C:\\Users\\Liya\\anaconda3\\Lib\\site-packages\\numpy\\core\\~ib\n",
      "  Moving to c:\\users\\liya\\anaconda3\\lib\\site-packages\\numpy\\core\\machar.py\n",
      "   from C:\\Users\\Liya\\AppData\\Local\\Temp\\pip-uninstall-2bdgig3c\\core\\machar.py\n",
      "  Moving to c:\\users\\liya\\anaconda3\\lib\\site-packages\\numpy\\core\\memmap.py\n",
      "   from C:\\Users\\Liya\\AppData\\Local\\Temp\\pip-uninstall-2bdgig3c\\core\\memmap.py\n",
      "  Moving to c:\\users\\liya\\anaconda3\\lib\\site-packages\\numpy\\core\\multiarray.py\n",
      "   from C:\\Users\\Liya\\AppData\\Local\\Temp\\pip-uninstall-2bdgig3c\\core\\multiarray.py\n",
      "  Moving to c:\\users\\liya\\anaconda3\\lib\\site-packages\\numpy\\core\\numeric.py\n",
      "   from C:\\Users\\Liya\\AppData\\Local\\Temp\\pip-uninstall-2bdgig3c\\core\\numeric.py\n",
      "  Moving to c:\\users\\liya\\anaconda3\\lib\\site-packages\\numpy\\core\\numerictypes.py\n",
      "   from C:\\Users\\Liya\\AppData\\Local\\Temp\\pip-uninstall-2bdgig3c\\core\\numerictypes.py\n",
      "  Moving to c:\\users\\liya\\anaconda3\\lib\\site-packages\\numpy\\core\\overrides.py\n",
      "   from C:\\Users\\Liya\\AppData\\Local\\Temp\\pip-uninstall-2bdgig3c\\core\\overrides.py\n",
      "  Moving to c:\\users\\liya\\anaconda3\\lib\\site-packages\\numpy\\core\\records.py\n",
      "   from C:\\Users\\Liya\\AppData\\Local\\Temp\\pip-uninstall-2bdgig3c\\core\\records.py\n",
      "  Moving to c:\\users\\liya\\anaconda3\\lib\\site-packages\\numpy\\core\\setup.py\n",
      "   from C:\\Users\\Liya\\AppData\\Local\\Temp\\pip-uninstall-2bdgig3c\\core\\setup.py\n",
      "  Moving to c:\\users\\liya\\anaconda3\\lib\\site-packages\\numpy\\core\\setup_common.py\n",
      "   from C:\\Users\\Liya\\AppData\\Local\\Temp\\pip-uninstall-2bdgig3c\\core\\setup_common.py\n",
      "  Moving to c:\\users\\liya\\anaconda3\\lib\\site-packages\\numpy\\core\\shape_base.py\n",
      "   from C:\\Users\\Liya\\AppData\\Local\\Temp\\pip-uninstall-2bdgig3c\\core\\shape_base.py\n",
      "  Moving to c:\\users\\liya\\anaconda3\\lib\\site-packages\\numpy\\core\\tests\\__init__.py\n",
      "   from C:\\Users\\Liya\\AppData\\Local\\Temp\\pip-uninstall-2bdgig3c\\core\\tests\\__init__.py\n",
      "  Moving to c:\\users\\liya\\anaconda3\\lib\\site-packages\\numpy\\core\\tests\\__pycache__\\__init__.cpython-38.pyc\n",
      "   from C:\\Users\\Liya\\AppData\\Local\\Temp\\pip-uninstall-2bdgig3c\\core\\tests\\__pycache__\\__init__.cpython-38.pyc\n",
      "  Moving to c:\\users\\liya\\anaconda3\\lib\\site-packages\\numpy\\core\\tests\\__pycache__\\_locales.cpython-38.pyc\n",
      "   from C:\\Users\\Liya\\AppData\\Local\\Temp\\pip-uninstall-2bdgig3c\\core\\tests\\__pycache__\\_locales.cpython-38.pyc\n",
      "  Moving to c:\\users\\liya\\anaconda3\\lib\\site-packages\\numpy\\core\\tests\\__pycache__\\test__exceptions.cpython-38.pyc\n",
      "   from C:\\Users\\Liya\\AppData\\Local\\Temp\\pip-uninstall-2bdgig3c\\core\\tests\\__pycache__\\test__exceptions.cpython-38.pyc\n",
      "  Moving to c:\\users\\liya\\anaconda3\\lib\\site-packages\\numpy\\core\\tests\\__pycache__\\test_abc.cpython-38.pyc\n",
      "   from C:\\Users\\Liya\\AppData\\Local\\Temp\\pip-uninstall-2bdgig3c\\core\\tests\\__pycache__\\test_abc.cpython-38.pyc\n",
      "  Moving to c:\\users\\liya\\anaconda3\\lib\\site-packages\\numpy\\core\\tests\\__pycache__\\test_api.cpython-38.pyc\n",
      "   from C:\\Users\\Liya\\AppData\\Local\\Temp\\pip-uninstall-2bdgig3c\\core\\tests\\__pycache__\\test_api.cpython-38.pyc\n",
      "  Moving to c:\\users\\liya\\anaconda3\\lib\\site-packages\\numpy\\core\\tests\\__pycache__\\test_arrayprint.cpython-38.pyc\n",
      "   from C:\\Users\\Liya\\AppData\\Local\\Temp\\pip-uninstall-2bdgig3c\\core\\tests\\__pycache__\\test_arrayprint.cpython-38.pyc\n",
      "  Moving to c:\\users\\liya\\anaconda3\\lib\\site-packages\\numpy\\core\\tests\\__pycache__\\test_conversion_utils.cpython-38.pyc\n",
      "   from C:\\Users\\Liya\\AppData\\Local\\Temp\\pip-uninstall-2bdgig3c\\core\\tests\\__pycache__\\test_conversion_utils.cpython-38.pyc\n",
      "  Moving to c:\\users\\liya\\anaconda3\\lib\\site-packages\\numpy\\core\\tests\\__pycache__\\test_cpu_features.cpython-38.pyc\n",
      "   from C:\\Users\\Liya\\AppData\\Local\\Temp\\pip-uninstall-2bdgig3c\\core\\tests\\__pycache__\\test_cpu_features.cpython-38.pyc\n",
      "  Moving to c:\\users\\liya\\anaconda3\\lib\\site-packages\\numpy\\core\\tests\\__pycache__\\test_datetime.cpython-38.pyc\n",
      "   from C:\\Users\\Liya\\AppData\\Local\\Temp\\pip-uninstall-2bdgig3c\\core\\tests\\__pycache__\\test_datetime.cpython-38.pyc\n",
      "  Moving to c:\\users\\liya\\anaconda3\\lib\\site-packages\\numpy\\core\\tests\\__pycache__\\test_defchararray.cpython-38.pyc\n",
      "   from C:\\Users\\Liya\\AppData\\Local\\Temp\\pip-uninstall-2bdgig3c\\core\\tests\\__pycache__\\test_defchararray.cpython-38.pyc\n",
      "  Moving to c:\\users\\liya\\anaconda3\\lib\\site-packages\\numpy\\core\\tests\\__pycache__\\test_deprecations.cpython-38.pyc\n",
      "   from C:\\Users\\Liya\\AppData\\Local\\Temp\\pip-uninstall-2bdgig3c\\core\\tests\\__pycache__\\test_deprecations.cpython-38.pyc\n",
      "  Moving to c:\\users\\liya\\anaconda3\\lib\\site-packages\\numpy\\core\\tests\\__pycache__\\test_dtype.cpython-38.pyc\n",
      "   from C:\\Users\\Liya\\AppData\\Local\\Temp\\pip-uninstall-2bdgig3c\\core\\tests\\__pycache__\\test_dtype.cpython-38.pyc\n",
      "  Moving to c:\\users\\liya\\anaconda3\\lib\\site-packages\\numpy\\core\\tests\\__pycache__\\test_einsum.cpython-38.pyc\n",
      "   from C:\\Users\\Liya\\AppData\\Local\\Temp\\pip-uninstall-2bdgig3c\\core\\tests\\__pycache__\\test_einsum.cpython-38.pyc\n",
      "  Moving to c:\\users\\liya\\anaconda3\\lib\\site-packages\\numpy\\core\\tests\\__pycache__\\test_errstate.cpython-38.pyc\n",
      "   from C:\\Users\\Liya\\AppData\\Local\\Temp\\pip-uninstall-2bdgig3c\\core\\tests\\__pycache__\\test_errstate.cpython-38.pyc\n",
      "  Moving to c:\\users\\liya\\anaconda3\\lib\\site-packages\\numpy\\core\\tests\\__pycache__\\test_extint128.cpython-38.pyc\n",
      "   from C:\\Users\\Liya\\AppData\\Local\\Temp\\pip-uninstall-2bdgig3c\\core\\tests\\__pycache__\\test_extint128.cpython-38.pyc\n",
      "  Moving to c:\\users\\liya\\anaconda3\\lib\\site-packages\\numpy\\core\\tests\\__pycache__\\test_function_base.cpython-38.pyc\n",
      "   from C:\\Users\\Liya\\AppData\\Local\\Temp\\pip-uninstall-2bdgig3c\\core\\tests\\__pycache__\\test_function_base.cpython-38.pyc\n",
      "  Moving to c:\\users\\liya\\anaconda3\\lib\\site-packages\\numpy\\core\\tests\\__pycache__\\test_getlimits.cpython-38.pyc\n",
      "   from C:\\Users\\Liya\\AppData\\Local\\Temp\\pip-uninstall-2bdgig3c\\core\\tests\\__pycache__\\test_getlimits.cpython-38.pyc\n",
      "  Moving to c:\\users\\liya\\anaconda3\\lib\\site-packages\\numpy\\core\\tests\\__pycache__\\test_half.cpython-38.pyc\n",
      "   from C:\\Users\\Liya\\AppData\\Local\\Temp\\pip-uninstall-2bdgig3c\\core\\tests\\__pycache__\\test_half.cpython-38.pyc\n",
      "  Moving to c:\\users\\liya\\anaconda3\\lib\\site-packages\\numpy\\core\\tests\\__pycache__\\test_indexerrors.cpython-38.pyc\n",
      "   from C:\\Users\\Liya\\AppData\\Local\\Temp\\pip-uninstall-2bdgig3c\\core\\tests\\__pycache__\\test_indexerrors.cpython-38.pyc\n",
      "  Moving to c:\\users\\liya\\anaconda3\\lib\\site-packages\\numpy\\core\\tests\\__pycache__\\test_indexing.cpython-38.pyc\n",
      "   from C:\\Users\\Liya\\AppData\\Local\\Temp\\pip-uninstall-2bdgig3c\\core\\tests\\__pycache__\\test_indexing.cpython-38.pyc\n",
      "  Moving to c:\\users\\liya\\anaconda3\\lib\\site-packages\\numpy\\core\\tests\\__pycache__\\test_item_selection.cpython-38.pyc\n",
      "   from C:\\Users\\Liya\\AppData\\Local\\Temp\\pip-uninstall-2bdgig3c\\core\\tests\\__pycache__\\test_item_selection.cpython-38.pyc\n",
      "  Moving to c:\\users\\liya\\anaconda3\\lib\\site-packages\\numpy\\core\\tests\\__pycache__\\test_longdouble.cpython-38.pyc\n",
      "   from C:\\Users\\Liya\\AppData\\Local\\Temp\\pip-uninstall-2bdgig3c\\core\\tests\\__pycache__\\test_longdouble.cpython-38.pyc\n",
      "  Moving to c:\\users\\liya\\anaconda3\\lib\\site-packages\\numpy\\core\\tests\\__pycache__\\test_machar.cpython-38.pyc\n",
      "   from C:\\Users\\Liya\\AppData\\Local\\Temp\\pip-uninstall-2bdgig3c\\core\\tests\\__pycache__\\test_machar.cpython-38.pyc\n",
      "  Moving to c:\\users\\liya\\anaconda3\\lib\\site-packages\\numpy\\core\\tests\\__pycache__\\test_mem_overlap.cpython-38.pyc\n",
      "   from C:\\Users\\Liya\\AppData\\Local\\Temp\\pip-uninstall-2bdgig3c\\core\\tests\\__pycache__\\test_mem_overlap.cpython-38.pyc\n",
      "  Moving to c:\\users\\liya\\anaconda3\\lib\\site-packages\\numpy\\core\\tests\\__pycache__\\test_memmap.cpython-38.pyc\n",
      "   from C:\\Users\\Liya\\AppData\\Local\\Temp\\pip-uninstall-2bdgig3c\\core\\tests\\__pycache__\\test_memmap.cpython-38.pyc\n",
      "  Moving to c:\\users\\liya\\anaconda3\\lib\\site-packages\\numpy\\core\\tests\\__pycache__\\test_multiarray.cpython-38.pyc\n",
      "   from C:\\Users\\Liya\\AppData\\Local\\Temp\\pip-uninstall-2bdgig3c\\core\\tests\\__pycache__\\test_multiarray.cpython-38.pyc\n",
      "  Moving to c:\\users\\liya\\anaconda3\\lib\\site-packages\\numpy\\core\\tests\\__pycache__\\test_nditer.cpython-38.pyc\n",
      "   from C:\\Users\\Liya\\AppData\\Local\\Temp\\pip-uninstall-2bdgig3c\\core\\tests\\__pycache__\\test_nditer.cpython-38.pyc\n",
      "  Moving to c:\\users\\liya\\anaconda3\\lib\\site-packages\\numpy\\core\\tests\\__pycache__\\test_numeric.cpython-38.pyc\n",
      "   from C:\\Users\\Liya\\AppData\\Local\\Temp\\pip-uninstall-2bdgig3c\\core\\tests\\__pycache__\\test_numeric.cpython-38.pyc\n",
      "  Moving to c:\\users\\liya\\anaconda3\\lib\\site-packages\\numpy\\core\\tests\\__pycache__\\test_numerictypes.cpython-38.pyc\n",
      "   from C:\\Users\\Liya\\AppData\\Local\\Temp\\pip-uninstall-2bdgig3c\\core\\tests\\__pycache__\\test_numerictypes.cpython-38.pyc\n",
      "  Moving to c:\\users\\liya\\anaconda3\\lib\\site-packages\\numpy\\core\\tests\\__pycache__\\test_overrides.cpython-38.pyc\n",
      "   from C:\\Users\\Liya\\AppData\\Local\\Temp\\pip-uninstall-2bdgig3c\\core\\tests\\__pycache__\\test_overrides.cpython-38.pyc\n",
      "  Moving to c:\\users\\liya\\anaconda3\\lib\\site-packages\\numpy\\core\\tests\\__pycache__\\test_print.cpython-38.pyc\n",
      "   from C:\\Users\\Liya\\AppData\\Local\\Temp\\pip-uninstall-2bdgig3c\\core\\tests\\__pycache__\\test_print.cpython-38.pyc\n",
      "  Moving to c:\\users\\liya\\anaconda3\\lib\\site-packages\\numpy\\core\\tests\\__pycache__\\test_protocols.cpython-38.pyc\n",
      "   from C:\\Users\\Liya\\AppData\\Local\\Temp\\pip-uninstall-2bdgig3c\\core\\tests\\__pycache__\\test_protocols.cpython-38.pyc\n",
      "  Moving to c:\\users\\liya\\anaconda3\\lib\\site-packages\\numpy\\core\\tests\\__pycache__\\test_records.cpython-38.pyc\n",
      "   from C:\\Users\\Liya\\AppData\\Local\\Temp\\pip-uninstall-2bdgig3c\\core\\tests\\__pycache__\\test_records.cpython-38.pyc\n",
      "  Moving to c:\\users\\liya\\anaconda3\\lib\\site-packages\\numpy\\core\\tests\\__pycache__\\test_regression.cpython-38.pyc\n",
      "   from C:\\Users\\Liya\\AppData\\Local\\Temp\\pip-uninstall-2bdgig3c\\core\\tests\\__pycache__\\test_regression.cpython-38.pyc\n",
      "  Moving to c:\\users\\liya\\anaconda3\\lib\\site-packages\\numpy\\core\\tests\\__pycache__\\test_scalar_ctors.cpython-38.pyc\n",
      "   from C:\\Users\\Liya\\AppData\\Local\\Temp\\pip-uninstall-2bdgig3c\\core\\tests\\__pycache__\\test_scalar_ctors.cpython-38.pyc\n",
      "  Moving to c:\\users\\liya\\anaconda3\\lib\\site-packages\\numpy\\core\\tests\\__pycache__\\test_scalar_methods.cpython-38.pyc\n",
      "   from C:\\Users\\Liya\\AppData\\Local\\Temp\\pip-uninstall-2bdgig3c\\core\\tests\\__pycache__\\test_scalar_methods.cpython-38.pyc\n",
      "  Moving to c:\\users\\liya\\anaconda3\\lib\\site-packages\\numpy\\core\\tests\\__pycache__\\test_scalarbuffer.cpython-38.pyc\n",
      "   from C:\\Users\\Liya\\AppData\\Local\\Temp\\pip-uninstall-2bdgig3c\\core\\tests\\__pycache__\\test_scalarbuffer.cpython-38.pyc\n",
      "  Moving to c:\\users\\liya\\anaconda3\\lib\\site-packages\\numpy\\core\\tests\\__pycache__\\test_scalarinherit.cpython-38.pyc\n",
      "   from C:\\Users\\Liya\\AppData\\Local\\Temp\\pip-uninstall-2bdgig3c\\core\\tests\\__pycache__\\test_scalarinherit.cpython-38.pyc\n",
      "  Moving to c:\\users\\liya\\anaconda3\\lib\\site-packages\\numpy\\core\\tests\\__pycache__\\test_scalarmath.cpython-38.pyc\n",
      "   from C:\\Users\\Liya\\AppData\\Local\\Temp\\pip-uninstall-2bdgig3c\\core\\tests\\__pycache__\\test_scalarmath.cpython-38.pyc\n",
      "  Moving to c:\\users\\liya\\anaconda3\\lib\\site-packages\\numpy\\core\\tests\\__pycache__\\test_scalarprint.cpython-38.pyc\n",
      "   from C:\\Users\\Liya\\AppData\\Local\\Temp\\pip-uninstall-2bdgig3c\\core\\tests\\__pycache__\\test_scalarprint.cpython-38.pyc\n",
      "  Moving to c:\\users\\liya\\anaconda3\\lib\\site-packages\\numpy\\core\\tests\\__pycache__\\test_shape_base.cpython-38.pyc\n",
      "   from C:\\Users\\Liya\\AppData\\Local\\Temp\\pip-uninstall-2bdgig3c\\core\\tests\\__pycache__\\test_shape_base.cpython-38.pyc\n",
      "  Moving to c:\\users\\liya\\anaconda3\\lib\\site-packages\\numpy\\core\\tests\\__pycache__\\test_ufunc.cpython-38.pyc\n",
      "   from C:\\Users\\Liya\\AppData\\Local\\Temp\\pip-uninstall-2bdgig3c\\core\\tests\\__pycache__\\test_ufunc.cpython-38.pyc\n",
      "  Moving to c:\\users\\liya\\anaconda3\\lib\\site-packages\\numpy\\core\\tests\\__pycache__\\test_umath.cpython-38.pyc\n",
      "   from C:\\Users\\Liya\\AppData\\Local\\Temp\\pip-uninstall-2bdgig3c\\core\\tests\\__pycache__\\test_umath.cpython-38.pyc\n",
      "  Moving to c:\\users\\liya\\anaconda3\\lib\\site-packages\\numpy\\core\\tests\\__pycache__\\test_umath_accuracy.cpython-38.pyc\n",
      "   from C:\\Users\\Liya\\AppData\\Local\\Temp\\pip-uninstall-2bdgig3c\\core\\tests\\__pycache__\\test_umath_accuracy.cpython-38.pyc\n",
      "  Moving to c:\\users\\liya\\anaconda3\\lib\\site-packages\\numpy\\core\\tests\\__pycache__\\test_umath_complex.cpython-38.pyc\n",
      "   from C:\\Users\\Liya\\AppData\\Local\\Temp\\pip-uninstall-2bdgig3c\\core\\tests\\__pycache__\\test_umath_complex.cpython-38.pyc\n",
      "  Moving to c:\\users\\liya\\anaconda3\\lib\\site-packages\\numpy\\core\\tests\\__pycache__\\test_unicode.cpython-38.pyc\n",
      "   from C:\\Users\\Liya\\AppData\\Local\\Temp\\pip-uninstall-2bdgig3c\\core\\tests\\__pycache__\\test_unicode.cpython-38.pyc\n",
      "  Moving to c:\\users\\liya\\anaconda3\\lib\\site-packages\\numpy\\core\\tests\\_locales.py\n",
      "   from C:\\Users\\Liya\\AppData\\Local\\Temp\\pip-uninstall-2bdgig3c\\core\\tests\\_locales.py\n",
      "  Moving to c:\\users\\liya\\anaconda3\\lib\\site-packages\\numpy\\core\\tests\\data\\\n",
      "   from C:\\Users\\Liya\\anaconda3\\Lib\\site-packages\\numpy\\core\\tests\\~ata\n",
      "  Moving to c:\\users\\liya\\anaconda3\\lib\\site-packages\\numpy\\core\\tests\\test__exceptions.py\n",
      "   from C:\\Users\\Liya\\AppData\\Local\\Temp\\pip-uninstall-2bdgig3c\\core\\tests\\test__exceptions.py\n",
      "  Moving to c:\\users\\liya\\anaconda3\\lib\\site-packages\\numpy\\core\\tests\\test_abc.py\n",
      "   from C:\\Users\\Liya\\AppData\\Local\\Temp\\pip-uninstall-2bdgig3c\\core\\tests\\test_abc.py\n",
      "  Moving to c:\\users\\liya\\anaconda3\\lib\\site-packages\\numpy\\core\\tests\\test_api.py\n",
      "   from C:\\Users\\Liya\\AppData\\Local\\Temp\\pip-uninstall-2bdgig3c\\core\\tests\\test_api.py\n",
      "  Moving to c:\\users\\liya\\anaconda3\\lib\\site-packages\\numpy\\core\\tests\\test_arrayprint.py\n",
      "   from C:\\Users\\Liya\\AppData\\Local\\Temp\\pip-uninstall-2bdgig3c\\core\\tests\\test_arrayprint.py\n",
      "  Moving to c:\\users\\liya\\anaconda3\\lib\\site-packages\\numpy\\core\\tests\\test_conversion_utils.py\n",
      "   from C:\\Users\\Liya\\AppData\\Local\\Temp\\pip-uninstall-2bdgig3c\\core\\tests\\test_conversion_utils.py\n",
      "  Moving to c:\\users\\liya\\anaconda3\\lib\\site-packages\\numpy\\core\\tests\\test_cpu_features.py\n",
      "   from C:\\Users\\Liya\\AppData\\Local\\Temp\\pip-uninstall-2bdgig3c\\core\\tests\\test_cpu_features.py\n",
      "  Moving to c:\\users\\liya\\anaconda3\\lib\\site-packages\\numpy\\core\\tests\\test_datetime.py\n",
      "   from C:\\Users\\Liya\\AppData\\Local\\Temp\\pip-uninstall-2bdgig3c\\core\\tests\\test_datetime.py\n",
      "  Moving to c:\\users\\liya\\anaconda3\\lib\\site-packages\\numpy\\core\\tests\\test_defchararray.py\n",
      "   from C:\\Users\\Liya\\AppData\\Local\\Temp\\pip-uninstall-2bdgig3c\\core\\tests\\test_defchararray.py\n",
      "  Moving to c:\\users\\liya\\anaconda3\\lib\\site-packages\\numpy\\core\\tests\\test_deprecations.py\n",
      "   from C:\\Users\\Liya\\AppData\\Local\\Temp\\pip-uninstall-2bdgig3c\\core\\tests\\test_deprecations.py\n",
      "  Moving to c:\\users\\liya\\anaconda3\\lib\\site-packages\\numpy\\core\\tests\\test_dtype.py\n",
      "   from C:\\Users\\Liya\\AppData\\Local\\Temp\\pip-uninstall-2bdgig3c\\core\\tests\\test_dtype.py\n",
      "  Moving to c:\\users\\liya\\anaconda3\\lib\\site-packages\\numpy\\core\\tests\\test_einsum.py\n",
      "   from C:\\Users\\Liya\\AppData\\Local\\Temp\\pip-uninstall-2bdgig3c\\core\\tests\\test_einsum.py\n",
      "  Moving to c:\\users\\liya\\anaconda3\\lib\\site-packages\\numpy\\core\\tests\\test_errstate.py\n",
      "   from C:\\Users\\Liya\\AppData\\Local\\Temp\\pip-uninstall-2bdgig3c\\core\\tests\\test_errstate.py\n",
      "  Moving to c:\\users\\liya\\anaconda3\\lib\\site-packages\\numpy\\core\\tests\\test_extint128.py\n",
      "   from C:\\Users\\Liya\\AppData\\Local\\Temp\\pip-uninstall-2bdgig3c\\core\\tests\\test_extint128.py\n",
      "  Moving to c:\\users\\liya\\anaconda3\\lib\\site-packages\\numpy\\core\\tests\\test_function_base.py\n",
      "   from C:\\Users\\Liya\\AppData\\Local\\Temp\\pip-uninstall-2bdgig3c\\core\\tests\\test_function_base.py\n",
      "  Moving to c:\\users\\liya\\anaconda3\\lib\\site-packages\\numpy\\core\\tests\\test_getlimits.py\n",
      "   from C:\\Users\\Liya\\AppData\\Local\\Temp\\pip-uninstall-2bdgig3c\\core\\tests\\test_getlimits.py\n",
      "  Moving to c:\\users\\liya\\anaconda3\\lib\\site-packages\\numpy\\core\\tests\\test_half.py\n",
      "   from C:\\Users\\Liya\\AppData\\Local\\Temp\\pip-uninstall-2bdgig3c\\core\\tests\\test_half.py\n",
      "  Moving to c:\\users\\liya\\anaconda3\\lib\\site-packages\\numpy\\core\\tests\\test_indexerrors.py\n",
      "   from C:\\Users\\Liya\\AppData\\Local\\Temp\\pip-uninstall-2bdgig3c\\core\\tests\\test_indexerrors.py\n",
      "  Moving to c:\\users\\liya\\anaconda3\\lib\\site-packages\\numpy\\core\\tests\\test_indexing.py\n",
      "   from C:\\Users\\Liya\\AppData\\Local\\Temp\\pip-uninstall-2bdgig3c\\core\\tests\\test_indexing.py\n",
      "  Moving to c:\\users\\liya\\anaconda3\\lib\\site-packages\\numpy\\core\\tests\\test_item_selection.py\n",
      "   from C:\\Users\\Liya\\AppData\\Local\\Temp\\pip-uninstall-2bdgig3c\\core\\tests\\test_item_selection.py\n",
      "  Moving to c:\\users\\liya\\anaconda3\\lib\\site-packages\\numpy\\core\\tests\\test_longdouble.py\n",
      "   from C:\\Users\\Liya\\AppData\\Local\\Temp\\pip-uninstall-2bdgig3c\\core\\tests\\test_longdouble.py\n",
      "  Moving to c:\\users\\liya\\anaconda3\\lib\\site-packages\\numpy\\core\\tests\\test_machar.py\n",
      "   from C:\\Users\\Liya\\AppData\\Local\\Temp\\pip-uninstall-2bdgig3c\\core\\tests\\test_machar.py\n",
      "  Moving to c:\\users\\liya\\anaconda3\\lib\\site-packages\\numpy\\core\\tests\\test_mem_overlap.py\n",
      "   from C:\\Users\\Liya\\AppData\\Local\\Temp\\pip-uninstall-2bdgig3c\\core\\tests\\test_mem_overlap.py\n",
      "  Moving to c:\\users\\liya\\anaconda3\\lib\\site-packages\\numpy\\core\\tests\\test_memmap.py\n",
      "   from C:\\Users\\Liya\\AppData\\Local\\Temp\\pip-uninstall-2bdgig3c\\core\\tests\\test_memmap.py\n",
      "  Moving to c:\\users\\liya\\anaconda3\\lib\\site-packages\\numpy\\core\\tests\\test_multiarray.py\n",
      "   from C:\\Users\\Liya\\AppData\\Local\\Temp\\pip-uninstall-2bdgig3c\\core\\tests\\test_multiarray.py\n",
      "  Moving to c:\\users\\liya\\anaconda3\\lib\\site-packages\\numpy\\core\\tests\\test_nditer.py\n",
      "   from C:\\Users\\Liya\\AppData\\Local\\Temp\\pip-uninstall-2bdgig3c\\core\\tests\\test_nditer.py\n",
      "  Moving to c:\\users\\liya\\anaconda3\\lib\\site-packages\\numpy\\core\\tests\\test_numeric.py\n",
      "   from C:\\Users\\Liya\\AppData\\Local\\Temp\\pip-uninstall-2bdgig3c\\core\\tests\\test_numeric.py\n",
      "  Moving to c:\\users\\liya\\anaconda3\\lib\\site-packages\\numpy\\core\\tests\\test_numerictypes.py\n",
      "   from C:\\Users\\Liya\\AppData\\Local\\Temp\\pip-uninstall-2bdgig3c\\core\\tests\\test_numerictypes.py\n",
      "  Moving to c:\\users\\liya\\anaconda3\\lib\\site-packages\\numpy\\core\\tests\\test_overrides.py\n",
      "   from C:\\Users\\Liya\\AppData\\Local\\Temp\\pip-uninstall-2bdgig3c\\core\\tests\\test_overrides.py\n",
      "  Moving to c:\\users\\liya\\anaconda3\\lib\\site-packages\\numpy\\core\\tests\\test_print.py\n",
      "   from C:\\Users\\Liya\\AppData\\Local\\Temp\\pip-uninstall-2bdgig3c\\core\\tests\\test_print.py\n",
      "  Moving to c:\\users\\liya\\anaconda3\\lib\\site-packages\\numpy\\core\\tests\\test_protocols.py\n",
      "   from C:\\Users\\Liya\\AppData\\Local\\Temp\\pip-uninstall-2bdgig3c\\core\\tests\\test_protocols.py\n",
      "  Moving to c:\\users\\liya\\anaconda3\\lib\\site-packages\\numpy\\core\\tests\\test_records.py\n",
      "   from C:\\Users\\Liya\\AppData\\Local\\Temp\\pip-uninstall-2bdgig3c\\core\\tests\\test_records.py\n",
      "  Moving to c:\\users\\liya\\anaconda3\\lib\\site-packages\\numpy\\core\\tests\\test_regression.py\n",
      "   from C:\\Users\\Liya\\AppData\\Local\\Temp\\pip-uninstall-2bdgig3c\\core\\tests\\test_regression.py\n",
      "  Moving to c:\\users\\liya\\anaconda3\\lib\\site-packages\\numpy\\core\\tests\\test_scalar_ctors.py\n",
      "   from C:\\Users\\Liya\\AppData\\Local\\Temp\\pip-uninstall-2bdgig3c\\core\\tests\\test_scalar_ctors.py\n",
      "  Moving to c:\\users\\liya\\anaconda3\\lib\\site-packages\\numpy\\core\\tests\\test_scalar_methods.py\n",
      "   from C:\\Users\\Liya\\AppData\\Local\\Temp\\pip-uninstall-2bdgig3c\\core\\tests\\test_scalar_methods.py\n",
      "  Moving to c:\\users\\liya\\anaconda3\\lib\\site-packages\\numpy\\core\\tests\\test_scalarbuffer.py\n",
      "   from C:\\Users\\Liya\\AppData\\Local\\Temp\\pip-uninstall-2bdgig3c\\core\\tests\\test_scalarbuffer.py\n",
      "  Moving to c:\\users\\liya\\anaconda3\\lib\\site-packages\\numpy\\core\\tests\\test_scalarinherit.py\n",
      "   from C:\\Users\\Liya\\AppData\\Local\\Temp\\pip-uninstall-2bdgig3c\\core\\tests\\test_scalarinherit.py\n",
      "  Moving to c:\\users\\liya\\anaconda3\\lib\\site-packages\\numpy\\core\\tests\\test_scalarmath.py\n",
      "   from C:\\Users\\Liya\\AppData\\Local\\Temp\\pip-uninstall-2bdgig3c\\core\\tests\\test_scalarmath.py\n",
      "  Moving to c:\\users\\liya\\anaconda3\\lib\\site-packages\\numpy\\core\\tests\\test_scalarprint.py\n",
      "   from C:\\Users\\Liya\\AppData\\Local\\Temp\\pip-uninstall-2bdgig3c\\core\\tests\\test_scalarprint.py\n",
      "  Moving to c:\\users\\liya\\anaconda3\\lib\\site-packages\\numpy\\core\\tests\\test_shape_base.py\n",
      "   from C:\\Users\\Liya\\AppData\\Local\\Temp\\pip-uninstall-2bdgig3c\\core\\tests\\test_shape_base.py\n",
      "  Moving to c:\\users\\liya\\anaconda3\\lib\\site-packages\\numpy\\core\\tests\\test_ufunc.py\n",
      "   from C:\\Users\\Liya\\AppData\\Local\\Temp\\pip-uninstall-2bdgig3c\\core\\tests\\test_ufunc.py\n",
      "  Moving to c:\\users\\liya\\anaconda3\\lib\\site-packages\\numpy\\core\\tests\\test_umath.py\n",
      "   from C:\\Users\\Liya\\AppData\\Local\\Temp\\pip-uninstall-2bdgig3c\\core\\tests\\test_umath.py\n",
      "  Moving to c:\\users\\liya\\anaconda3\\lib\\site-packages\\numpy\\core\\tests\\test_umath_accuracy.py\n",
      "   from C:\\Users\\Liya\\AppData\\Local\\Temp\\pip-uninstall-2bdgig3c\\core\\tests\\test_umath_accuracy.py\n",
      "  Moving to c:\\users\\liya\\anaconda3\\lib\\site-packages\\numpy\\core\\tests\\test_umath_complex.py\n",
      "   from C:\\Users\\Liya\\AppData\\Local\\Temp\\pip-uninstall-2bdgig3c\\core\\tests\\test_umath_complex.py\n",
      "  Moving to c:\\users\\liya\\anaconda3\\lib\\site-packages\\numpy\\core\\tests\\test_unicode.py\n",
      "   from C:\\Users\\Liya\\AppData\\Local\\Temp\\pip-uninstall-2bdgig3c\\core\\tests\\test_unicode.py\n",
      "  Moving to c:\\users\\liya\\anaconda3\\lib\\site-packages\\numpy\\core\\umath.py\n",
      "   from C:\\Users\\Liya\\AppData\\Local\\Temp\\pip-uninstall-2bdgig3c\\core\\umath.py\n",
      "  Moving to c:\\users\\liya\\anaconda3\\lib\\site-packages\\numpy\\core\\umath_tests.py\n",
      "   from C:\\Users\\Liya\\AppData\\Local\\Temp\\pip-uninstall-2bdgig3c\\core\\umath_tests.py\n",
      "  Moving to c:\\users\\liya\\anaconda3\\lib\\site-packages\\numpy\\ctypeslib.py\n",
      "   from C:\\Users\\Liya\\AppData\\Local\\Temp\\pip-uninstall-2bdgig3c\\ctypeslib.py\n",
      "  Moving to c:\\users\\liya\\anaconda3\\lib\\site-packages\\numpy\\distutils\\__config__.py\n",
      "   from C:\\Users\\Liya\\AppData\\Local\\Temp\\pip-uninstall-2bdgig3c\\distutils\\__config__.py\n",
      "  Moving to c:\\users\\liya\\anaconda3\\lib\\site-packages\\numpy\\distutils\\__init__.py\n",
      "   from C:\\Users\\Liya\\AppData\\Local\\Temp\\pip-uninstall-2bdgig3c\\distutils\\__init__.py\n",
      "  Moving to c:\\users\\liya\\anaconda3\\lib\\site-packages\\numpy\\distutils\\__pycache__\\__config__.cpython-38.pyc\n",
      "   from C:\\Users\\Liya\\AppData\\Local\\Temp\\pip-uninstall-2bdgig3c\\distutils\\__pycache__\\__config__.cpython-38.pyc\n",
      "  Moving to c:\\users\\liya\\anaconda3\\lib\\site-packages\\numpy\\distutils\\__pycache__\\__init__.cpython-38.pyc\n",
      "   from C:\\Users\\Liya\\AppData\\Local\\Temp\\pip-uninstall-2bdgig3c\\distutils\\__pycache__\\__init__.cpython-38.pyc\n",
      "  Moving to c:\\users\\liya\\anaconda3\\lib\\site-packages\\numpy\\distutils\\__pycache__\\_shell_utils.cpython-38.pyc\n",
      "   from C:\\Users\\Liya\\AppData\\Local\\Temp\\pip-uninstall-2bdgig3c\\distutils\\__pycache__\\_shell_utils.cpython-38.pyc\n",
      "  Moving to c:\\users\\liya\\anaconda3\\lib\\site-packages\\numpy\\distutils\\__pycache__\\ccompiler.cpython-38.pyc\n",
      "   from C:\\Users\\Liya\\AppData\\Local\\Temp\\pip-uninstall-2bdgig3c\\distutils\\__pycache__\\ccompiler.cpython-38.pyc\n",
      "  Moving to c:\\users\\liya\\anaconda3\\lib\\site-packages\\numpy\\distutils\\__pycache__\\conv_template.cpython-38.pyc\n",
      "   from C:\\Users\\Liya\\AppData\\Local\\Temp\\pip-uninstall-2bdgig3c\\distutils\\__pycache__\\conv_template.cpython-38.pyc\n",
      "  Moving to c:\\users\\liya\\anaconda3\\lib\\site-packages\\numpy\\distutils\\__pycache__\\core.cpython-38.pyc\n",
      "   from C:\\Users\\Liya\\AppData\\Local\\Temp\\pip-uninstall-2bdgig3c\\distutils\\__pycache__\\core.cpython-38.pyc\n",
      "  Moving to c:\\users\\liya\\anaconda3\\lib\\site-packages\\numpy\\distutils\\__pycache__\\cpuinfo.cpython-38.pyc\n",
      "   from C:\\Users\\Liya\\AppData\\Local\\Temp\\pip-uninstall-2bdgig3c\\distutils\\__pycache__\\cpuinfo.cpython-38.pyc\n",
      "  Moving to c:\\users\\liya\\anaconda3\\lib\\site-packages\\numpy\\distutils\\__pycache__\\exec_command.cpython-38.pyc\n",
      "   from C:\\Users\\Liya\\AppData\\Local\\Temp\\pip-uninstall-2bdgig3c\\distutils\\__pycache__\\exec_command.cpython-38.pyc\n",
      "  Moving to c:\\users\\liya\\anaconda3\\lib\\site-packages\\numpy\\distutils\\__pycache__\\extension.cpython-38.pyc\n",
      "   from C:\\Users\\Liya\\AppData\\Local\\Temp\\pip-uninstall-2bdgig3c\\distutils\\__pycache__\\extension.cpython-38.pyc\n",
      "  Moving to c:\\users\\liya\\anaconda3\\lib\\site-packages\\numpy\\distutils\\__pycache__\\from_template.cpython-38.pyc\n",
      "   from C:\\Users\\Liya\\AppData\\Local\\Temp\\pip-uninstall-2bdgig3c\\distutils\\__pycache__\\from_template.cpython-38.pyc\n",
      "  Moving to c:\\users\\liya\\anaconda3\\lib\\site-packages\\numpy\\distutils\\__pycache__\\intelccompiler.cpython-38.pyc\n",
      "   from C:\\Users\\Liya\\AppData\\Local\\Temp\\pip-uninstall-2bdgig3c\\distutils\\__pycache__\\intelccompiler.cpython-38.pyc\n",
      "  Moving to c:\\users\\liya\\anaconda3\\lib\\site-packages\\numpy\\distutils\\__pycache__\\lib2def.cpython-38.pyc\n",
      "   from C:\\Users\\Liya\\AppData\\Local\\Temp\\pip-uninstall-2bdgig3c\\distutils\\__pycache__\\lib2def.cpython-38.pyc\n",
      "  Moving to c:\\users\\liya\\anaconda3\\lib\\site-packages\\numpy\\distutils\\__pycache__\\line_endings.cpython-38.pyc\n",
      "   from C:\\Users\\Liya\\AppData\\Local\\Temp\\pip-uninstall-2bdgig3c\\distutils\\__pycache__\\line_endings.cpython-38.pyc\n",
      "  Moving to c:\\users\\liya\\anaconda3\\lib\\site-packages\\numpy\\distutils\\__pycache__\\log.cpython-38.pyc\n",
      "   from C:\\Users\\Liya\\AppData\\Local\\Temp\\pip-uninstall-2bdgig3c\\distutils\\__pycache__\\log.cpython-38.pyc\n",
      "  Moving to c:\\users\\liya\\anaconda3\\lib\\site-packages\\numpy\\distutils\\__pycache__\\mingw32ccompiler.cpython-38.pyc\n",
      "   from C:\\Users\\Liya\\AppData\\Local\\Temp\\pip-uninstall-2bdgig3c\\distutils\\__pycache__\\mingw32ccompiler.cpython-38.pyc\n",
      "  Moving to c:\\users\\liya\\anaconda3\\lib\\site-packages\\numpy\\distutils\\__pycache__\\misc_util.cpython-38.pyc\n",
      "   from C:\\Users\\Liya\\AppData\\Local\\Temp\\pip-uninstall-2bdgig3c\\distutils\\__pycache__\\misc_util.cpython-38.pyc\n",
      "  Moving to c:\\users\\liya\\anaconda3\\lib\\site-packages\\numpy\\distutils\\__pycache__\\msvc9compiler.cpython-38.pyc\n",
      "   from C:\\Users\\Liya\\AppData\\Local\\Temp\\pip-uninstall-2bdgig3c\\distutils\\__pycache__\\msvc9compiler.cpython-38.pyc\n",
      "  Moving to c:\\users\\liya\\anaconda3\\lib\\site-packages\\numpy\\distutils\\__pycache__\\msvccompiler.cpython-38.pyc\n",
      "   from C:\\Users\\Liya\\AppData\\Local\\Temp\\pip-uninstall-2bdgig3c\\distutils\\__pycache__\\msvccompiler.cpython-38.pyc\n",
      "  Moving to c:\\users\\liya\\anaconda3\\lib\\site-packages\\numpy\\distutils\\__pycache__\\npy_pkg_config.cpython-38.pyc\n",
      "   from C:\\Users\\Liya\\AppData\\Local\\Temp\\pip-uninstall-2bdgig3c\\distutils\\__pycache__\\npy_pkg_config.cpython-38.pyc\n",
      "  Moving to c:\\users\\liya\\anaconda3\\lib\\site-packages\\numpy\\distutils\\__pycache__\\numpy_distribution.cpython-38.pyc\n",
      "   from C:\\Users\\Liya\\AppData\\Local\\Temp\\pip-uninstall-2bdgig3c\\distutils\\__pycache__\\numpy_distribution.cpython-38.pyc\n",
      "  Moving to c:\\users\\liya\\anaconda3\\lib\\site-packages\\numpy\\distutils\\__pycache__\\pathccompiler.cpython-38.pyc\n",
      "   from C:\\Users\\Liya\\AppData\\Local\\Temp\\pip-uninstall-2bdgig3c\\distutils\\__pycache__\\pathccompiler.cpython-38.pyc\n",
      "  Moving to c:\\users\\liya\\anaconda3\\lib\\site-packages\\numpy\\distutils\\__pycache__\\setup.cpython-38.pyc\n",
      "   from C:\\Users\\Liya\\AppData\\Local\\Temp\\pip-uninstall-2bdgig3c\\distutils\\__pycache__\\setup.cpython-38.pyc\n",
      "  Moving to c:\\users\\liya\\anaconda3\\lib\\site-packages\\numpy\\distutils\\__pycache__\\system_info.cpython-38.pyc\n",
      "   from C:\\Users\\Liya\\AppData\\Local\\Temp\\pip-uninstall-2bdgig3c\\distutils\\__pycache__\\system_info.cpython-38.pyc\n",
      "  Moving to c:\\users\\liya\\anaconda3\\lib\\site-packages\\numpy\\distutils\\__pycache__\\unixccompiler.cpython-38.pyc\n",
      "   from C:\\Users\\Liya\\AppData\\Local\\Temp\\pip-uninstall-2bdgig3c\\distutils\\__pycache__\\unixccompiler.cpython-38.pyc\n",
      "  Moving to c:\\users\\liya\\anaconda3\\lib\\site-packages\\numpy\\distutils\\_shell_utils.py\n",
      "   from C:\\Users\\Liya\\AppData\\Local\\Temp\\pip-uninstall-2bdgig3c\\distutils\\_shell_utils.py\n",
      "  Moving to c:\\users\\liya\\anaconda3\\lib\\site-packages\\numpy\\distutils\\ccompiler.py\n",
      "   from C:\\Users\\Liya\\AppData\\Local\\Temp\\pip-uninstall-2bdgig3c\\distutils\\ccompiler.py\n",
      "  Moving to c:\\users\\liya\\anaconda3\\lib\\site-packages\\numpy\\distutils\\command\\\n",
      "   from C:\\Users\\Liya\\anaconda3\\Lib\\site-packages\\numpy\\distutils\\~ommand\n",
      "  Moving to c:\\users\\liya\\anaconda3\\lib\\site-packages\\numpy\\distutils\\conv_template.py\n",
      "   from C:\\Users\\Liya\\AppData\\Local\\Temp\\pip-uninstall-2bdgig3c\\distutils\\conv_template.py\n",
      "  Moving to c:\\users\\liya\\anaconda3\\lib\\site-packages\\numpy\\distutils\\core.py\n",
      "   from C:\\Users\\Liya\\AppData\\Local\\Temp\\pip-uninstall-2bdgig3c\\distutils\\core.py\n",
      "  Moving to c:\\users\\liya\\anaconda3\\lib\\site-packages\\numpy\\distutils\\cpuinfo.py\n",
      "   from C:\\Users\\Liya\\AppData\\Local\\Temp\\pip-uninstall-2bdgig3c\\distutils\\cpuinfo.py\n",
      "  Moving to c:\\users\\liya\\anaconda3\\lib\\site-packages\\numpy\\distutils\\exec_command.py\n",
      "   from C:\\Users\\Liya\\AppData\\Local\\Temp\\pip-uninstall-2bdgig3c\\distutils\\exec_command.py\n",
      "  Moving to c:\\users\\liya\\anaconda3\\lib\\site-packages\\numpy\\distutils\\extension.py\n",
      "   from C:\\Users\\Liya\\AppData\\Local\\Temp\\pip-uninstall-2bdgig3c\\distutils\\extension.py\n",
      "  Moving to c:\\users\\liya\\anaconda3\\lib\\site-packages\\numpy\\distutils\\fcompiler\\\n",
      "   from C:\\Users\\Liya\\anaconda3\\Lib\\site-packages\\numpy\\distutils\\~compiler\n",
      "  Moving to c:\\users\\liya\\anaconda3\\lib\\site-packages\\numpy\\distutils\\from_template.py\n",
      "   from C:\\Users\\Liya\\AppData\\Local\\Temp\\pip-uninstall-2bdgig3c\\distutils\\from_template.py\n",
      "  Moving to c:\\users\\liya\\anaconda3\\lib\\site-packages\\numpy\\distutils\\intelccompiler.py\n",
      "   from C:\\Users\\Liya\\AppData\\Local\\Temp\\pip-uninstall-2bdgig3c\\distutils\\intelccompiler.py\n",
      "  Moving to c:\\users\\liya\\anaconda3\\lib\\site-packages\\numpy\\distutils\\lib2def.py\n",
      "   from C:\\Users\\Liya\\AppData\\Local\\Temp\\pip-uninstall-2bdgig3c\\distutils\\lib2def.py\n",
      "  Moving to c:\\users\\liya\\anaconda3\\lib\\site-packages\\numpy\\distutils\\line_endings.py\n",
      "   from C:\\Users\\Liya\\AppData\\Local\\Temp\\pip-uninstall-2bdgig3c\\distutils\\line_endings.py\n",
      "  Moving to c:\\users\\liya\\anaconda3\\lib\\site-packages\\numpy\\distutils\\log.py\n",
      "   from C:\\Users\\Liya\\AppData\\Local\\Temp\\pip-uninstall-2bdgig3c\\distutils\\log.py\n",
      "  Moving to c:\\users\\liya\\anaconda3\\lib\\site-packages\\numpy\\distutils\\mingw32ccompiler.py\n",
      "   from C:\\Users\\Liya\\AppData\\Local\\Temp\\pip-uninstall-2bdgig3c\\distutils\\mingw32ccompiler.py\n",
      "  Moving to c:\\users\\liya\\anaconda3\\lib\\site-packages\\numpy\\distutils\\mingw\\\n",
      "   from C:\\Users\\Liya\\anaconda3\\Lib\\site-packages\\numpy\\distutils\\~ingw\n",
      "  Moving to c:\\users\\liya\\anaconda3\\lib\\site-packages\\numpy\\distutils\\misc_util.py\n",
      "   from C:\\Users\\Liya\\AppData\\Local\\Temp\\pip-uninstall-2bdgig3c\\distutils\\misc_util.py\n",
      "  Moving to c:\\users\\liya\\anaconda3\\lib\\site-packages\\numpy\\distutils\\msvc9compiler.py\n",
      "   from C:\\Users\\Liya\\AppData\\Local\\Temp\\pip-uninstall-2bdgig3c\\distutils\\msvc9compiler.py\n",
      "  Moving to c:\\users\\liya\\anaconda3\\lib\\site-packages\\numpy\\distutils\\msvccompiler.py\n",
      "   from C:\\Users\\Liya\\AppData\\Local\\Temp\\pip-uninstall-2bdgig3c\\distutils\\msvccompiler.py\n",
      "  Moving to c:\\users\\liya\\anaconda3\\lib\\site-packages\\numpy\\distutils\\npy_pkg_config.py\n",
      "   from C:\\Users\\Liya\\AppData\\Local\\Temp\\pip-uninstall-2bdgig3c\\distutils\\npy_pkg_config.py\n",
      "  Moving to c:\\users\\liya\\anaconda3\\lib\\site-packages\\numpy\\distutils\\numpy_distribution.py\n",
      "   from C:\\Users\\Liya\\AppData\\Local\\Temp\\pip-uninstall-2bdgig3c\\distutils\\numpy_distribution.py\n",
      "  Moving to c:\\users\\liya\\anaconda3\\lib\\site-packages\\numpy\\distutils\\pathccompiler.py\n",
      "   from C:\\Users\\Liya\\AppData\\Local\\Temp\\pip-uninstall-2bdgig3c\\distutils\\pathccompiler.py\n",
      "  Moving to c:\\users\\liya\\anaconda3\\lib\\site-packages\\numpy\\distutils\\setup.py\n",
      "   from C:\\Users\\Liya\\AppData\\Local\\Temp\\pip-uninstall-2bdgig3c\\distutils\\setup.py\n",
      "  Moving to c:\\users\\liya\\anaconda3\\lib\\site-packages\\numpy\\distutils\\system_info.py\n",
      "   from C:\\Users\\Liya\\AppData\\Local\\Temp\\pip-uninstall-2bdgig3c\\distutils\\system_info.py\n",
      "  Moving to c:\\users\\liya\\anaconda3\\lib\\site-packages\\numpy\\distutils\\tests\\\n",
      "   from C:\\Users\\Liya\\anaconda3\\Lib\\site-packages\\numpy\\distutils\\~ests\n",
      "  Moving to c:\\users\\liya\\anaconda3\\lib\\site-packages\\numpy\\distutils\\unixccompiler.py\n",
      "   from C:\\Users\\Liya\\AppData\\Local\\Temp\\pip-uninstall-2bdgig3c\\distutils\\unixccompiler.py\n",
      "  Moving to c:\\users\\liya\\anaconda3\\lib\\site-packages\\numpy\\doc\\\n",
      "   from C:\\Users\\Liya\\anaconda3\\Lib\\site-packages\\numpy\\~oc\n",
      "  Moving to c:\\users\\liya\\anaconda3\\lib\\site-packages\\numpy\\dual.py\n",
      "   from C:\\Users\\Liya\\AppData\\Local\\Temp\\pip-uninstall-2bdgig3c\\dual.py\n",
      "  Moving to c:\\users\\liya\\anaconda3\\lib\\site-packages\\numpy\\f2py\\\n",
      "   from C:\\Users\\Liya\\anaconda3\\Lib\\site-packages\\numpy\\~2py\n",
      "  Moving to c:\\users\\liya\\anaconda3\\lib\\site-packages\\numpy\\fft\\\n",
      "   from C:\\Users\\Liya\\anaconda3\\Lib\\site-packages\\numpy\\~ft\n",
      "  Moving to c:\\users\\liya\\anaconda3\\lib\\site-packages\\numpy\\lib\\\n",
      "   from C:\\Users\\Liya\\anaconda3\\Lib\\site-packages\\numpy\\~ib\n",
      "  Moving to c:\\users\\liya\\anaconda3\\lib\\site-packages\\numpy\\license.txt\n",
      "   from C:\\Users\\Liya\\AppData\\Local\\Temp\\pip-uninstall-2bdgig3c\\license.txt\n",
      "  Moving to c:\\users\\liya\\anaconda3\\lib\\site-packages\\numpy\\linalg\\\n",
      "   from C:\\Users\\Liya\\anaconda3\\Lib\\site-packages\\numpy\\~inalg\n",
      "  Moving to c:\\users\\liya\\anaconda3\\lib\\site-packages\\numpy\\ma\\\n",
      "   from C:\\Users\\Liya\\anaconda3\\Lib\\site-packages\\numpy\\~a\n",
      "  Moving to c:\\users\\liya\\anaconda3\\lib\\site-packages\\numpy\\matlib.py\n",
      "   from C:\\Users\\Liya\\AppData\\Local\\Temp\\pip-uninstall-2bdgig3c\\matlib.py\n",
      "  Moving to c:\\users\\liya\\anaconda3\\lib\\site-packages\\numpy\\matrixlib\\\n",
      "   from C:\\Users\\Liya\\anaconda3\\Lib\\site-packages\\numpy\\~atrixlib\n",
      "  Moving to c:\\users\\liya\\anaconda3\\lib\\site-packages\\numpy\\polynomial\\\n",
      "   from C:\\Users\\Liya\\anaconda3\\Lib\\site-packages\\numpy\\~olynomial\n",
      "  Moving to c:\\users\\liya\\anaconda3\\lib\\site-packages\\numpy\\random\\__init__.pxd\n",
      "   from C:\\Users\\Liya\\AppData\\Local\\Temp\\pip-uninstall-2bdgig3c\\random\\__init__.pxd\n",
      "  Moving to c:\\users\\liya\\anaconda3\\lib\\site-packages\\numpy\\random\\__init__.py\n",
      "   from C:\\Users\\Liya\\AppData\\Local\\Temp\\pip-uninstall-2bdgig3c\\random\\__init__.py\n",
      "  Moving to c:\\users\\liya\\anaconda3\\lib\\site-packages\\numpy\\random\\__pycache__\\\n",
      "   from C:\\Users\\Liya\\anaconda3\\Lib\\site-packages\\numpy\\random\\~_pycache__\n",
      "  Moving to c:\\users\\liya\\anaconda3\\lib\\site-packages\\numpy\\random\\_bounded_integers.cp38-win_amd64.pyd\n",
      "   from C:\\Users\\Liya\\AppData\\Local\\Temp\\pip-uninstall-2bdgig3c\\random\\_bounded_integers.cp38-win_amd64.pyd\n",
      "  Moving to c:\\users\\liya\\anaconda3\\lib\\site-packages\\numpy\\random\\_bounded_integers.pxd\n",
      "   from C:\\Users\\Liya\\AppData\\Local\\Temp\\pip-uninstall-2bdgig3c\\random\\_bounded_integers.pxd\n",
      "  Moving to c:\\users\\liya\\anaconda3\\lib\\site-packages\\numpy\\random\\_common.cp38-win_amd64.pyd\n",
      "   from C:\\Users\\Liya\\AppData\\Local\\Temp\\pip-uninstall-2bdgig3c\\random\\_common.cp38-win_amd64.pyd\n",
      "  Moving to c:\\users\\liya\\anaconda3\\lib\\site-packages\\numpy\\random\\_common.pxd\n",
      "   from C:\\Users\\Liya\\AppData\\Local\\Temp\\pip-uninstall-2bdgig3c\\random\\_common.pxd\n",
      "  Moving to c:\\users\\liya\\anaconda3\\lib\\site-packages\\numpy\\random\\_examples\\cffi\\\n",
      "   from C:\\Users\\Liya\\anaconda3\\Lib\\site-packages\\numpy\\random\\_examples\\~ffi\n",
      "  Moving to c:\\users\\liya\\anaconda3\\lib\\site-packages\\numpy\\random\\_examples\\cython\\\n",
      "   from C:\\Users\\Liya\\anaconda3\\Lib\\site-packages\\numpy\\random\\_examples\\~ython\n",
      "  Moving to c:\\users\\liya\\anaconda3\\lib\\site-packages\\numpy\\random\\_examples\\numba\\\n",
      "   from C:\\Users\\Liya\\anaconda3\\Lib\\site-packages\\numpy\\random\\_examples\\~umba\n",
      "  Moving to c:\\users\\liya\\anaconda3\\lib\\site-packages\\numpy\\random\\_generator.cp38-win_amd64.pyd\n",
      "   from C:\\Users\\Liya\\AppData\\Local\\Temp\\pip-uninstall-2bdgig3c\\random\\_generator.cp38-win_amd64.pyd\n",
      "  Moving to c:\\users\\liya\\anaconda3\\lib\\site-packages\\numpy\\random\\_mt19937.cp38-win_amd64.pyd\n",
      "   from C:\\Users\\Liya\\AppData\\Local\\Temp\\pip-uninstall-2bdgig3c\\random\\_mt19937.cp38-win_amd64.pyd\n",
      "  Moving to c:\\users\\liya\\anaconda3\\lib\\site-packages\\numpy\\random\\_pcg64.cp38-win_amd64.pyd\n",
      "   from C:\\Users\\Liya\\AppData\\Local\\Temp\\pip-uninstall-2bdgig3c\\random\\_pcg64.cp38-win_amd64.pyd\n",
      "  Moving to c:\\users\\liya\\anaconda3\\lib\\site-packages\\numpy\\random\\_philox.cp38-win_amd64.pyd\n",
      "   from C:\\Users\\Liya\\AppData\\Local\\Temp\\pip-uninstall-2bdgig3c\\random\\_philox.cp38-win_amd64.pyd\n",
      "  Moving to c:\\users\\liya\\anaconda3\\lib\\site-packages\\numpy\\random\\_pickle.py\n",
      "   from C:\\Users\\Liya\\AppData\\Local\\Temp\\pip-uninstall-2bdgig3c\\random\\_pickle.py\n",
      "  Moving to c:\\users\\liya\\anaconda3\\lib\\site-packages\\numpy\\random\\_sfc64.cp38-win_amd64.pyd\n",
      "   from C:\\Users\\Liya\\AppData\\Local\\Temp\\pip-uninstall-2bdgig3c\\random\\_sfc64.cp38-win_amd64.pyd\n",
      "  Moving to c:\\users\\liya\\anaconda3\\lib\\site-packages\\numpy\\random\\bit_generator.cp38-win_amd64.pyd\n",
      "   from C:\\Users\\Liya\\AppData\\Local\\Temp\\pip-uninstall-2bdgig3c\\random\\bit_generator.cp38-win_amd64.pyd\n",
      "  Moving to c:\\users\\liya\\anaconda3\\lib\\site-packages\\numpy\\random\\bit_generator.pxd\n",
      "   from C:\\Users\\Liya\\AppData\\Local\\Temp\\pip-uninstall-2bdgig3c\\random\\bit_generator.pxd\n",
      "  Moving to c:\\users\\liya\\anaconda3\\lib\\site-packages\\numpy\\random\\c_distributions.pxd\n",
      "   from C:\\Users\\Liya\\AppData\\Local\\Temp\\pip-uninstall-2bdgig3c\\random\\c_distributions.pxd\n",
      "  Moving to c:\\users\\liya\\anaconda3\\lib\\site-packages\\numpy\\random\\lib\\\n",
      "   from C:\\Users\\Liya\\anaconda3\\Lib\\site-packages\\numpy\\random\\~ib\n",
      "  Moving to c:\\users\\liya\\anaconda3\\lib\\site-packages\\numpy\\random\\mtrand.cp38-win_amd64.pyd\n",
      "   from C:\\Users\\Liya\\AppData\\Local\\Temp\\pip-uninstall-2bdgig3c\\random\\mtrand.cp38-win_amd64.pyd\n",
      "  Moving to c:\\users\\liya\\anaconda3\\lib\\site-packages\\numpy\\random\\setup.py\n",
      "   from C:\\Users\\Liya\\AppData\\Local\\Temp\\pip-uninstall-2bdgig3c\\random\\setup.py\n",
      "  Moving to c:\\users\\liya\\anaconda3\\lib\\site-packages\\numpy\\random\\tests\\\n",
      "   from C:\\Users\\Liya\\anaconda3\\Lib\\site-packages\\numpy\\random\\~ests\n",
      "  Moving to c:\\users\\liya\\anaconda3\\lib\\site-packages\\numpy\\setup.py\n",
      "   from C:\\Users\\Liya\\AppData\\Local\\Temp\\pip-uninstall-2bdgig3c\\setup.py\n",
      "  Moving to c:\\users\\liya\\anaconda3\\lib\\site-packages\\numpy\\testing\\\n",
      "   from C:\\Users\\Liya\\anaconda3\\Lib\\site-packages\\numpy\\~esting\n",
      "  Moving to c:\\users\\liya\\anaconda3\\lib\\site-packages\\numpy\\tests\\\n",
      "   from C:\\Users\\Liya\\anaconda3\\Lib\\site-packages\\numpy\\~ests\n",
      "  Moving to c:\\users\\liya\\anaconda3\\lib\\site-packages\\numpy\\version.py\n",
      "   from C:\\Users\\Liya\\AppData\\Local\\Temp\\pip-uninstall-2bdgig3c\\version.py\n",
      "  Moving to c:\\users\\liya\\anaconda3\\scripts\\f2py-script.py\n",
      "   from C:\\Users\\Liya\\AppData\\Local\\Temp\\pip-uninstall-gpmqr26p\\f2py-script.py\n",
      "  Moving to c:\\users\\liya\\anaconda3\\scripts\\f2py.exe\n",
      "   from C:\\Users\\Liya\\AppData\\Local\\Temp\\pip-uninstall-gpmqr26p\\f2py.exe\n"
     ]
    },
    {
     "name": "stdout",
     "output_type": "stream",
     "text": [
      "Requirement already satisfied: keras in c:\\users\\liya\\anaconda3\\lib\\site-packages (2.4.3)Note: you may need to restart the kernel to use updated packages.\n",
      "Requirement already satisfied: h5py in c:\\users\\liya\\anaconda3\\lib\\site-packages (from keras) (3.1.0)\n",
      "Requirement already satisfied: scipy>=0.14 in c:\\users\\liya\\anaconda3\\lib\\site-packages (from keras) (1.5.4)\n",
      "Requirement already satisfied: pyyaml in c:\\users\\liya\\anaconda3\\lib\\site-packages (from keras) (5.3.1)\n",
      "Requirement already satisfied: numpy>=1.9.1 in c:\\users\\liya\\anaconda3\\lib\\site-packages (from keras) (1.19.4)\n",
      "\n"
     ]
    }
   ],
   "source": [
    "pip install keras"
   ]
  },
  {
   "cell_type": "markdown",
   "metadata": {},
   "source": [
    "Свёрточными сети называются так из за операции свертки, которая является основой всей сети. В этих сетях нету привычных связей и весовых коэффициентов. Вместо этого используется ядро свертки размером от 3х3 до 7х7. Операция свертки выделяет какой то признак в картинке, например переход от светлого пикселя к темному. Признаки зависят от ядра. "
   ]
  },
  {
   "cell_type": "markdown",
   "metadata": {},
   "source": [
    "Следующая операция Пулинг . Это как бы сжатие картинки или слоя свёртки по максимум или среднему значению, при этом группа пикселей (обычно размера 2×2) уплотняется до одного пикселя. По факту мы увеличиваем область которую захватывает ядро свертки в два раза. Переходя от маленьких деталей изображения к более крупным. Так же пулингом мы объединяем карты признаков (полученные сверткой) в более абстрактные признаки, уже не пиксела , а черточки и т.д."
   ]
  },
  {
   "cell_type": "code",
   "execution_count": 3,
   "metadata": {},
   "outputs": [],
   "source": [
    " # Подключаем датасет.\n",
    "from keras.datasets import mnist"
   ]
  },
  {
   "cell_type": "markdown",
   "metadata": {},
   "source": [
    "## Загружаем данные "
   ]
  },
  {
   "cell_type": "code",
   "execution_count": 4,
   "metadata": {},
   "outputs": [
    {
     "name": "stdout",
     "output_type": "stream",
     "text": [
      "Downloading data from https://storage.googleapis.com/tensorflow/tf-keras-datasets/mnist.npz\n",
      "11493376/11490434 [==============================] - 16s 1us/step\n"
     ]
    }
   ],
   "source": [
    "# x_train и x_test содержат двухмерный массив с изображение цифр\n",
    "# x_test, y_test массив с проверочными данными сети.  \n",
    "(x_train, y_train), (x_test, y_test) = mnist.load_data()\n",
    "# Трансформируем из двухмерного массива в трех мерный(28х28х1 канал)\n",
    "x_train = x_train.reshape(60000,28,28,1)\n",
    "x_test = x_test.reshape(10000,28,28,1)"
   ]
  },
  {
   "cell_type": "code",
   "execution_count": 5,
   "metadata": {},
   "outputs": [],
   "source": [
    "#keras.utils.to_categorical(y, num_classes=None, dtype=’float32′)\n",
    "#Преобразует вектор класса (целые числа) в двоичную матрицу классов.\n",
    "from keras.utils import to_categorical"
   ]
  },
  {
   "cell_type": "code",
   "execution_count": 6,
   "metadata": {},
   "outputs": [],
   "source": [
    "y_train = to_categorical(y_train)\n",
    "y_test = to_categorical(y_test)"
   ]
  },
  {
   "cell_type": "markdown",
   "metadata": {},
   "source": [
    "## Построение модели сети."
   ]
  },
  {
   "cell_type": "code",
   "execution_count": 7,
   "metadata": {},
   "outputs": [],
   "source": [
    "from keras.models import Sequential\n",
    "from keras.layers import Dense, Conv2D, Flatten\n",
    "import tensorflow as tf\n",
    "# создание модели\n",
    "model = Sequential()\n",
    "# Добавляем слой\n",
    "model.add(Conv2D(64, kernel_size=3, activation=tf.nn.relu, input_shape=(28,28,1)))"
   ]
  },
  {
   "cell_type": "markdown",
   "metadata": {},
   "source": [
    "Первый слой будет сверточный двухмерный (Conv2D) . Эти сверточные слои будут работать с входными изображениями, которые рассматриваются как двумерные матрицы. kernel_size=3 — размер ядра 3х3. Функция активации 'relu' ( Rectified Linear Activation ) , 64 это число ядер свертки( сколько признаком будем искать)"
   ]
  },
  {
   "cell_type": "code",
   "execution_count": 8,
   "metadata": {},
   "outputs": [],
   "source": [
    "# Второй сверточный слой\n",
    "model.add(Conv2D(32, kernel_size=3, activation=tf.nn.relu))\n",
    "# Создаем вектор для полносвязной сети.\n",
    "# Flatten() – слой, преобразующий 2D-данные в 1D-данные.\n",
    "model.add(Flatten())"
   ]
  },
  {
   "cell_type": "code",
   "execution_count": 9,
   "metadata": {},
   "outputs": [],
   "source": [
    "# Создадим однослойный перцептрон\n",
    "# Dense() — полносвязный слов, число выходов — 10 , функция активации 'softmax'.\n",
    "model.add(Dense(10, activation='softmax'))"
   ]
  },
  {
   "cell_type": "markdown",
   "metadata": {},
   "source": [
    "Далее, нам нужно скомпилировать нашу модель. Компиляция модели использует три параметра: оптимизатор, потери и метрики."
   ]
  },
  {
   "cell_type": "markdown",
   "metadata": {},
   "source": [
    "* *Функция потерь (Loss function)* — измеряет точность модели во время обучения. Мы хотим минимизировать эту функцию чтоб \"направить\" модель в верном направлении.\n",
    "* *Оптимизатор (Optimizer)*  — показывает каким образом обновляется модель на основе входных данных и функции потерь.\n",
    "* *Метрики (Metrics)* — используются для мониторинга тренировки и тестирования модели. Наш пример использует метрику *accuracy* равную доле правильно классифицированных изображений."
   ]
  },
  {
   "cell_type": "markdown",
   "metadata": {},
   "source": [
    "Оптимизатор весов `optimizer='adam'` (Адам: метод стохастической оптимизации). Функция потерь : `loss='categorical_crossentropy'` категориальная перекрестная энтропия (categorical crossentropy CCE). "
   ]
  },
  {
   "cell_type": "code",
   "execution_count": 10,
   "metadata": {},
   "outputs": [],
   "source": [
    "model.compile(optimizer= tf.optimizers.Adam(), loss='categorical_crossentropy', metrics=['accuracy'])"
   ]
  },
  {
   "cell_type": "markdown",
   "metadata": {},
   "source": [
    "Теперь запускаем обучение сети :"
   ]
  },
  {
   "cell_type": "markdown",
   "metadata": {},
   "source": [
    "epochs=1 число эпох , validation_data=(x_test, y_test) — проверочные данные"
   ]
  },
  {
   "cell_type": "code",
   "execution_count": 11,
   "metadata": {},
   "outputs": [
    {
     "name": "stdout",
     "output_type": "stream",
     "text": [
      "1875/1875 [==============================] - 130s 70ms/step - loss: 0.2579 - accuracy: 0.9483 - val_loss: 0.0758 - val_accuracy: 0.9764\n",
      "{'loss': [0.25790849328041077], 'accuracy': [0.9483333230018616], 'val_loss': [0.07580682635307312], 'val_accuracy': [0.9764000177383423]}\n"
     ]
    }
   ],
   "source": [
    "hist = model.fit(x_train, y_train, validation_data=(x_test, y_test), epochs=1)\n",
    "print(hist.history)"
   ]
  },
  {
   "cell_type": "markdown",
   "metadata": {},
   "source": [
    "## Визуализация."
   ]
  },
  {
   "cell_type": "code",
   "execution_count": 21,
   "metadata": {},
   "outputs": [
    {
     "name": "stdout",
     "output_type": "stream",
     "text": [
      "Accuracy: 98.00%\n"
     ]
    }
   ],
   "source": [
    "scores = model.evaluate(x_test, y_test, verbose=0)\n",
    "print(\"Accuracy: %.2f%%\" % (scores[1]*100))"
   ]
  },
  {
   "cell_type": "markdown",
   "metadata": {},
   "source": [
    "Построим графики обучения для наглядности. Метод fit() возвращает историю обучения."
   ]
  },
  {
   "cell_type": "code",
   "execution_count": 12,
   "metadata": {},
   "outputs": [],
   "source": [
    "import matplotlib.pyplot as plt"
   ]
  },
  {
   "cell_type": "code",
   "execution_count": 13,
   "metadata": {},
   "outputs": [
    {
     "name": "stdout",
     "output_type": "stream",
     "text": [
      "Epoch 1/5\n",
      "1875/1875 [==============================] - 127s 68ms/step - loss: 0.0704 - accuracy: 0.9789 - val_loss: 0.0859 - val_accuracy: 0.9750\n",
      "Epoch 2/5\n",
      "1875/1875 [==============================] - 124s 66ms/step - loss: 0.0489 - accuracy: 0.9844 - val_loss: 0.0809 - val_accuracy: 0.9786\n",
      "Epoch 3/5\n",
      "1875/1875 [==============================] - 123s 66ms/step - loss: 0.0371 - accuracy: 0.9880 - val_loss: 0.0892 - val_accuracy: 0.9780\n",
      "Epoch 4/5\n",
      "1875/1875 [==============================] - 122s 65ms/step - loss: 0.0276 - accuracy: 0.9913 - val_loss: 0.1002 - val_accuracy: 0.9771\n",
      "Epoch 5/5\n",
      "1875/1875 [==============================] - 125s 67ms/step - loss: 0.0230 - accuracy: 0.9927 - val_loss: 0.1030 - val_accuracy: 0.9800\n"
     ]
    }
   ],
   "source": [
    "history = model.fit(x_train, y_train, validation_data=(x_test, y_test), epochs=5)\n"
   ]
  },
  {
   "cell_type": "code",
   "execution_count": 14,
   "metadata": {},
   "outputs": [
    {
     "data": {
      "image/png": "[encoded data removed]",
      "text/plain": [
       "<Figure size 432x288 with 1 Axes>"
      ]
     },
     "metadata": {
      "needs_background": "light"
     },
     "output_type": "display_data"
    },
    {
     "data": {
      "image/png": "[encoded data removed]",
      "text/plain": [
       "<Figure size 432x288 with 1 Axes>"
      ]
     },
     "metadata": {
      "needs_background": "light"
     },
     "output_type": "display_data"
    }
   ],
   "source": [
    "plt.plot(history.history['accuracy'])\n",
    "plt.plot(history.history['val_accuracy'])\n",
    "plt.title('Model accuracy')\n",
    "plt.ylabel('Accuracy')\n",
    "plt.xlabel('Epoch')\n",
    "plt.legend(['Train', 'Test'], loc='upper left')\n",
    "plt.show()\n",
    "#\n",
    "plt.plot(history.history['loss'])\n",
    "plt.plot(history.history['val_loss'])\n",
    "plt.title('Model loss')\n",
    "plt.ylabel('Loss')\n",
    "plt.xlabel('Epoch')\n",
    "plt.legend(['Train', 'Test'], loc='upper left')\n",
    "plt.show()"
   ]
  },
  {
   "cell_type": "code",
   "execution_count": 15,
   "metadata": {},
   "outputs": [
    {
     "name": "stdout",
     "output_type": "stream",
     "text": [
      "{'loss': [0.07039621472358704, 0.04886070638895035, 0.037129830569028854, 0.027554161846637726, 0.023002419620752335], 'accuracy': [0.9788833260536194, 0.9844333529472351, 0.9879666566848755, 0.9912833571434021, 0.992733359336853], 'val_loss': [0.0859021544456482, 0.08087515085935593, 0.08923442661762238, 0.10021687299013138, 0.10297148674726486], 'val_accuracy': [0.9750000238418579, 0.978600025177002, 0.9779999852180481, 0.9771000146865845, 0.9800000190734863]}\n"
     ]
    }
   ],
   "source": [
    "print(history.history)"
   ]
  },
  {
   "cell_type": "markdown",
   "metadata": {},
   "source": [
    "Добавим слой Пулинг по Максимуму, и запустим на 10 эпох. Так же поменяем функцию ошибки и оптимизации."
   ]
  },
  {
   "cell_type": "code",
   "execution_count": 16,
   "metadata": {},
   "outputs": [
    {
     "name": "stdout",
     "output_type": "stream",
     "text": [
      "Epoch 1/10\n",
      "1875/1875 [==============================] - 83s 44ms/step - loss: 0.1085 - accuracy: 0.4391 - val_loss: 0.0606 - val_accuracy: 0.6640\n",
      "Epoch 2/10\n",
      "1875/1875 [==============================] - 89s 47ms/step - loss: 0.0160 - accuracy: 0.9041 - val_loss: 0.0049 - val_accuracy: 0.9698\n",
      "Epoch 3/10\n",
      "1875/1875 [==============================] - 83s 44ms/step - loss: 0.0044 - accuracy: 0.9721 - val_loss: 0.0040 - val_accuracy: 0.9739\n",
      "Epoch 4/10\n",
      "1875/1875 [==============================] - 86s 46ms/step - loss: 0.0032 - accuracy: 0.9799 - val_loss: 0.0031 - val_accuracy: 0.9805\n",
      "Epoch 5/10\n",
      "1875/1875 [==============================] - 82s 44ms/step - loss: 0.0025 - accuracy: 0.9847 - val_loss: 0.0033 - val_accuracy: 0.9796\n",
      "Epoch 6/10\n",
      "1875/1875 [==============================] - 87s 47ms/step - loss: 0.0020 - accuracy: 0.9881 - val_loss: 0.0028 - val_accuracy: 0.9821\n",
      "Epoch 7/10\n",
      "1875/1875 [==============================] - 90s 48ms/step - loss: 0.0016 - accuracy: 0.9904 - val_loss: 0.0027 - val_accuracy: 0.9829\n",
      "Epoch 8/10\n",
      "1875/1875 [==============================] - 87s 46ms/step - loss: 0.0014 - accuracy: 0.9919 - val_loss: 0.0027 - val_accuracy: 0.9826\n",
      "Epoch 9/10\n",
      "1875/1875 [==============================] - 87s 46ms/step - loss: 0.0012 - accuracy: 0.9930 - val_loss: 0.0025 - val_accuracy: 0.9830\n",
      "Epoch 10/10\n",
      "1875/1875 [==============================] - 88s 47ms/step - loss: 0.0010 - accuracy: 0.9943 - val_loss: 0.0024 - val_accuracy: 0.9850\n"
     ]
    }
   ],
   "source": [
    "from keras.layers import Dense, Conv2D, Flatten, MaxPooling2D\n",
    "\n",
    "# создание модели\n",
    "model2 = Sequential()\n",
    "model2.add(Conv2D(64, kernel_size=3, activation=tf.nn.relu, input_shape=(28,28,1)))\n",
    "model2.add(MaxPooling2D())\n",
    "model2.add(Conv2D(128, kernel_size=3, activation=tf.nn.relu))\n",
    "model2.add(Flatten())\n",
    "model2.add(Dense(10, activation='softmax'))\n",
    "model2.compile(optimizer=tf.optimizers.SGD(), loss='mean_squared_error', metrics=['accuracy'])\n",
    "history = model2.fit(x_train, y_train, validation_data=(x_test, y_test), epochs=10)"
   ]
  },
  {
   "cell_type": "code",
   "execution_count": 26,
   "metadata": {},
   "outputs": [
    {
     "name": "stdout",
     "output_type": "stream",
     "text": [
      "Accuracy: 98.50%\n"
     ]
    }
   ],
   "source": [
    "scores = model2.evaluate(x_test, y_test, verbose=0)\n",
    "print(\"Accuracy: %.2f%%\" % (scores[1]*100))"
   ]
  },
  {
   "cell_type": "code",
   "execution_count": null,
   "metadata": {},
   "outputs": [],
   "source": [
    "plt.plot(history.history['accuracy'])\n",
    "plt.plot(history.history['val_accuracy'])\n",
    "plt.title('Model accuracy')\n",
    "plt.ylabel('Accuracy')\n",
    "plt.xlabel('Epoch')\n",
    "plt.legend(['Train', 'Test'], loc='upper left')\n",
    "plt.show()\n",
    "#\n",
    "plt.plot(history.history['loss'])\n",
    "plt.plot(history.history['val_loss'])\n",
    "plt.title('Model loss')\n",
    "plt.ylabel('Loss')\n",
    "plt.xlabel('Epoch')\n",
    "plt.legend(['Train', 'Test'], loc='upper left')\n",
    "plt.show()"
   ]
  },
  {
   "cell_type": "code",
   "execution_count": null,
   "metadata": {},
   "outputs": [],
   "source": []
  }
 ],
 "metadata": {
  "kernelspec": {
   "display_name": "Python 3",
   "language": "python",
   "name": "python3"
  },
  "language_info": {
   "codemirror_mode": {
    "name": "ipython",
    "version": 3
   },
   "file_extension": ".py",
   "mimetype": "text/x-python",
   "name": "python",
   "nbconvert_exporter": "python",
   "pygments_lexer": "ipython3",
   "version": "3.8.3"
  }
 },
 "nbformat": 4,
 "nbformat_minor": 4
}
