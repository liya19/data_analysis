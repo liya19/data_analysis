{
 "cells": [
  {
   "cell_type": "markdown",
   "metadata": {},
   "source": [
    "# Прогнозирование KERAS"
   ]
  },
  {
   "cell_type": "code",
   "execution_count": 479,
   "metadata": {},
   "outputs": [],
   "source": [
    "# TensorFlow и tf.keras\n",
    "import tensorflow as tf\n",
    "from tensorflow import keras\n",
    "\n",
    "# Вспомогательные библиотеки\n",
    "import numpy as np\n",
    "import matplotlib.pyplot as plt\n",
    "import pandas as pd\n",
    "import seaborn as sns\n",
    "import warnings\n",
    "from time import time\n",
    "import matplotlib.ticker as tkr\n",
    "\n",
    "from scipy import stats\n",
    "from statsmodels.tsa.stattools import adfuller\n",
    "from sklearn import preprocessing\n",
    "from sklearn.preprocessing import MinMaxScaler\n",
    "from sklearn.metrics import mean_squared_error\n",
    "from sklearn.metrics import mean_absolute_error\n",
    "\n",
    "from sklearn import metrics"
   ]
  },
  {
   "cell_type": "markdown",
   "metadata": {},
   "source": [
    "Задача не просто сделать прогнозы по предыдущим дням - нам необходимо создать окно из этих предыдущих дней (возьмем 30), а прогнозировать будем 30+1 день"
   ]
  },
  {
   "cell_type": "code",
   "execution_count": 1,
   "metadata": {},
   "outputs": [
    {
     "ename": "NameError",
     "evalue": "name 'pd' is not defined",
     "output_type": "error",
     "traceback": [
      "\u001b[1;31m---------------------------------------------------------------------------\u001b[0m",
      "\u001b[1;31mNameError\u001b[0m                                 Traceback (most recent call last)",
      "\u001b[1;32m<ipython-input-1-36f84d0d5129>\u001b[0m in \u001b[0;36m<module>\u001b[1;34m\u001b[0m\n\u001b[0;32m      1\u001b[0m \u001b[1;31m# статистика зараженных ковид в Индии весной\u001b[0m\u001b[1;33m\u001b[0m\u001b[1;33m\u001b[0m\u001b[1;33m\u001b[0m\u001b[0m\n\u001b[1;32m----> 2\u001b[1;33m \u001b[0mdata\u001b[0m \u001b[1;33m=\u001b[0m \u001b[0mpd\u001b[0m\u001b[1;33m.\u001b[0m\u001b[0mread_csv\u001b[0m\u001b[1;33m(\u001b[0m\u001b[1;34m\"case_time_series.csv\"\u001b[0m\u001b[1;33m)\u001b[0m\u001b[1;33m[\u001b[0m\u001b[1;33m:\u001b[0m\u001b[1;33m:\u001b[0m\u001b[1;33m-\u001b[0m\u001b[1;36m1\u001b[0m\u001b[1;33m]\u001b[0m\u001b[1;33m\u001b[0m\u001b[1;33m\u001b[0m\u001b[0m\n\u001b[0m",
      "\u001b[1;31mNameError\u001b[0m: name 'pd' is not defined"
     ]
    }
   ],
   "source": [
    "# Считаем данные - у нас массив данных по акциям Alphbet (google) с сайта yahoo finannce за последние 5 лет\n",
    "data = pd.read_csv(\"https://query1.finance.yahoo.com/v7/finance/download/GOOG?period1=1446854400&period2=1604707200&interval=1d&events=history&includeAdjustedClose=true\")[::-1]"
   ]
  },
  {
   "cell_type": "code",
   "execution_count": 481,
   "metadata": {},
   "outputs": [
    {
     "data": {
      "text/html": [
       "<div>\n",
       "<style scoped>\n",
       "    .dataframe tbody tr th:only-of-type {\n",
       "        vertical-align: middle;\n",
       "    }\n",
       "\n",
       "    .dataframe tbody tr th {\n",
       "        vertical-align: top;\n",
       "    }\n",
       "\n",
       "    .dataframe thead th {\n",
       "        text-align: right;\n",
       "    }\n",
       "</style>\n",
       "<table border=\"1\" class=\"dataframe\">\n",
       "  <thead>\n",
       "    <tr style=\"text-align: right;\">\n",
       "      <th></th>\n",
       "      <th>Date</th>\n",
       "      <th>Open</th>\n",
       "      <th>High</th>\n",
       "      <th>Low</th>\n",
       "      <th>Close</th>\n",
       "      <th>Adj Close</th>\n",
       "      <th>Volume</th>\n",
       "    </tr>\n",
       "  </thead>\n",
       "  <tbody>\n",
       "    <tr>\n",
       "      <th>1258</th>\n",
       "      <td>2020-11-06</td>\n",
       "      <td>1753.949951</td>\n",
       "      <td>1772.430054</td>\n",
       "      <td>1740.349976</td>\n",
       "      <td>1761.750000</td>\n",
       "      <td>1761.750000</td>\n",
       "      <td>1660900</td>\n",
       "    </tr>\n",
       "    <tr>\n",
       "      <th>1257</th>\n",
       "      <td>2020-11-05</td>\n",
       "      <td>1781.000000</td>\n",
       "      <td>1793.640015</td>\n",
       "      <td>1750.510010</td>\n",
       "      <td>1763.369995</td>\n",
       "      <td>1763.369995</td>\n",
       "      <td>2065800</td>\n",
       "    </tr>\n",
       "    <tr>\n",
       "      <th>1256</th>\n",
       "      <td>2020-11-04</td>\n",
       "      <td>1710.280029</td>\n",
       "      <td>1771.364990</td>\n",
       "      <td>1706.030029</td>\n",
       "      <td>1749.130005</td>\n",
       "      <td>1749.130005</td>\n",
       "      <td>3570900</td>\n",
       "    </tr>\n",
       "    <tr>\n",
       "      <th>1255</th>\n",
       "      <td>2020-11-03</td>\n",
       "      <td>1631.780029</td>\n",
       "      <td>1661.699951</td>\n",
       "      <td>1616.619995</td>\n",
       "      <td>1650.209961</td>\n",
       "      <td>1650.209961</td>\n",
       "      <td>1661700</td>\n",
       "    </tr>\n",
       "    <tr>\n",
       "      <th>1254</th>\n",
       "      <td>2020-11-02</td>\n",
       "      <td>1628.160034</td>\n",
       "      <td>1660.770020</td>\n",
       "      <td>1616.030029</td>\n",
       "      <td>1626.030029</td>\n",
       "      <td>1626.030029</td>\n",
       "      <td>2535400</td>\n",
       "    </tr>\n",
       "  </tbody>\n",
       "</table>\n",
       "</div>"
      ],
      "text/plain": [
       "            Date         Open         High          Low        Close  \\\n",
       "1258  2020-11-06  1753.949951  1772.430054  1740.349976  1761.750000   \n",
       "1257  2020-11-05  1781.000000  1793.640015  1750.510010  1763.369995   \n",
       "1256  2020-11-04  1710.280029  1771.364990  1706.030029  1749.130005   \n",
       "1255  2020-11-03  1631.780029  1661.699951  1616.619995  1650.209961   \n",
       "1254  2020-11-02  1628.160034  1660.770020  1616.030029  1626.030029   \n",
       "\n",
       "        Adj Close   Volume  \n",
       "1258  1761.750000  1660900  \n",
       "1257  1763.369995  2065800  \n",
       "1256  1749.130005  3570900  \n",
       "1255  1650.209961  1661700  \n",
       "1254  1626.030029  2535400  "
      ]
     },
     "execution_count": 481,
     "metadata": {},
     "output_type": "execute_result"
    }
   ],
   "source": [
    "data.head()"
   ]
  },
  {
   "cell_type": "code",
   "execution_count": 482,
   "metadata": {},
   "outputs": [],
   "source": [
    "# Даты были в обратном порядке, поэтому отсортируем их\n",
    "data.sort_index(inplace=True)"
   ]
  },
  {
   "cell_type": "code",
   "execution_count": 483,
   "metadata": {},
   "outputs": [
    {
     "data": {
      "text/plain": [
       "(1259, 7)"
      ]
     },
     "execution_count": 483,
     "metadata": {},
     "output_type": "execute_result"
    }
   ],
   "source": [
    "data.shape"
   ]
  },
  {
   "cell_type": "markdown",
   "metadata": {},
   "source": [
    "У нас 1259 наблюдений (дней, за которые есть данные за последние 5 лет)"
   ]
  },
  {
   "cell_type": "code",
   "execution_count": 484,
   "metadata": {},
   "outputs": [
    {
     "data": {
      "text/plain": [
       "[<matplotlib.lines.Line2D at 0x7f96c442e9d0>]"
      ]
     },
     "execution_count": 484,
     "metadata": {},
     "output_type": "execute_result"
    },
    {
     "data": {
      "image/png": "[encoded data removed]",
      "text/plain": [
       "<Figure size 432x288 with 1 Axes>"
      ]
     },
     "metadata": {
      "needs_background": "light"
     },
     "output_type": "display_data"
    }
   ],
   "source": [
    "# Нам важна цена закрытия, посмотрим на ее динамику за последние 5 лет:\n",
    "plt.plot(data.Close, color='r')"
   ]
  },
  {
   "cell_type": "markdown",
   "metadata": {},
   "source": [
    "## Подготовим данные"
   ]
  },
  {
   "cell_type": "code",
   "execution_count": 485,
   "metadata": {},
   "outputs": [],
   "source": [
    "# нарезаем с шагом 1 данные по 30 дней для X (данные, на которых мы предсказываем)\n",
    "# и 30+1 день для Y (то, что именно мы предсказываем)\n",
    "# Получаем много \"окон\" из 30 дней и 1 дня после, на которых будем тренировать сет\n",
    "def create_dataset(dataset, look_back=1):\n",
    "    X, Y = [], []\n",
    "    for i in range(len(dataset)-look_back-1):\n",
    "        a = dataset[i:(i+look_back), 0]\n",
    "        X.append(a)\n",
    "        Y.append(dataset[i + look_back, 0])\n",
    "    return np.array(X), np.array(Y)"
   ]
  },
  {
   "cell_type": "code",
   "execution_count": 486,
   "metadata": {},
   "outputs": [],
   "source": [
    "# У нас 7 столбцов, но прогнозировать мы будем только цену закрытия\n",
    "dataset = np.array(data.Close)"
   ]
  },
  {
   "cell_type": "code",
   "execution_count": 487,
   "metadata": {},
   "outputs": [],
   "source": [
    "# Чтобы прогнозировать непрерывные случайные величины, формат чисел должен быть float, а не int\n",
    "dataset = dataset.astype('float32')"
   ]
  },
  {
   "cell_type": "code",
   "execution_count": 488,
   "metadata": {},
   "outputs": [],
   "source": [
    "# Изменим размерность матрицы\n",
    "dataset = np.reshape(dataset, (-1, 1))"
   ]
  },
  {
   "cell_type": "code",
   "execution_count": 489,
   "metadata": {},
   "outputs": [],
   "source": [
    "# Приведем все значения в диапазон от 0 до 1 (стандартиизация)\n",
    "scaler = MinMaxScaler(feature_range=(0, 1))\n",
    "dataset = scaler.fit_transform(dataset)"
   ]
  },
  {
   "cell_type": "code",
   "execution_count": 490,
   "metadata": {},
   "outputs": [],
   "source": [
    "# Определим размеры тренировочной и тестовой выборки\n",
    "train_size = int(len(dataset) * 0.8)\n",
    "test_size = len(dataset) - train_size"
   ]
  },
  {
   "cell_type": "code",
   "execution_count": 491,
   "metadata": {},
   "outputs": [],
   "source": [
    "# Разрежем данные на тренировочную и тестовую выборки\n",
    "train, test = dataset[0:train_size,:], dataset[train_size:len(dataset),:]"
   ]
  },
  {
   "cell_type": "code",
   "execution_count": 492,
   "metadata": {},
   "outputs": [],
   "source": [
    "# Количество дней, на основе которых мы делаем прогноз (размер окна)\n",
    "look_back = 30"
   ]
  },
  {
   "cell_type": "code",
   "execution_count": 493,
   "metadata": {},
   "outputs": [],
   "source": [
    "# Используем написанную ранее функцию для создания данных для обучения нейронной сети\n",
    "X_train, Y_train = create_dataset(train, look_back)\n",
    "X_test, Y_test = create_dataset(test, look_back)"
   ]
  },
  {
   "cell_type": "code",
   "execution_count": 494,
   "metadata": {},
   "outputs": [],
   "source": [
    "# Для tensorflow нужна следующая размерность [количество выборок, количество дней в окне, количество признаков]\n",
    "X_train = np.reshape(X_train, (X_train.shape[0], 1, X_train.shape[1]))\n",
    "X_test = np.reshape(X_test, (X_test.shape[0], 1, X_test.shape[1]))"
   ]
  },
  {
   "cell_type": "markdown",
   "metadata": {},
   "source": [
    "Для такого типа прогнозов (прогноз следующей даты по имеющимся данным за предыдущие дни) один из лучших вариантов - LSTM архитектура рекуррентной нейронной сети"
   ]
  },
  {
   "cell_type": "markdown",
   "metadata": {},
   "source": [
    "## Построим необходимую модель нейросети: будем использовать LSTM"
   ]
  },
  {
   "cell_type": "code",
   "execution_count": 495,
   "metadata": {},
   "outputs": [],
   "source": [
    "from tensorflow import keras\n",
    "from tensorflow.keras.models import Sequential\n",
    "from tensorflow.keras.layers import Dense\n",
    "from tensorflow.keras.layers import LSTM\n",
    "from tensorflow.keras.layers import Dropout\n",
    "from tensorflow.keras.layers import *\n",
    "from tensorflow.keras.callbacks import EarlyStopping"
   ]
  },
  {
   "cell_type": "code",
   "execution_count": 496,
   "metadata": {},
   "outputs": [
    {
     "name": "stdout",
     "output_type": "stream",
     "text": [
      "Epoch 1/500\n",
      "31/31 [==============================] - 1s 30ms/step - loss: 0.0024 - val_loss: 0.0073\n",
      "Epoch 2/500\n",
      "31/31 [==============================] - 0s 10ms/step - loss: 0.0024 - val_loss: 0.0065\n",
      "Epoch 3/500\n",
      "31/31 [==============================] - 0s 10ms/step - loss: 0.0015 - val_loss: 0.0057\n",
      "Epoch 4/500\n",
      "31/31 [==============================] - 0s 10ms/step - loss: 0.0014 - val_loss: 0.0050\n",
      "Epoch 5/500\n",
      "31/31 [==============================] - 0s 10ms/step - loss: 0.0013 - val_loss: 0.0046\n",
      "Epoch 6/500\n",
      "31/31 [==============================] - 0s 9ms/step - loss: 0.0012 - val_loss: 0.0042\n",
      "Epoch 7/500\n",
      "31/31 [==============================] - 0s 10ms/step - loss: 0.0012 - val_loss: 0.0035\n",
      "Epoch 8/500\n",
      "31/31 [==============================] - 0s 10ms/step - loss: 0.0011 - val_loss: 0.0032\n",
      "Epoch 9/500\n",
      "31/31 [==============================] - 0s 10ms/step - loss: 0.0011 - val_loss: 0.0028\n",
      "Epoch 10/500\n",
      "31/31 [==============================] - 0s 11ms/step - loss: 0.0011 - val_loss: 0.0027\n",
      "Epoch 11/500\n",
      "31/31 [==============================] - 0s 10ms/step - loss: 0.0013 - val_loss: 0.0034\n",
      "Epoch 12/500\n",
      "31/31 [==============================] - 0s 10ms/step - loss: 0.0014 - val_loss: 0.0026\n",
      "Epoch 13/500\n",
      "31/31 [==============================] - 0s 10ms/step - loss: 0.0012 - val_loss: 0.0025\n",
      "Epoch 14/500\n",
      "31/31 [==============================] - 0s 9ms/step - loss: 8.0935e-04 - val_loss: 0.0022\n",
      "Epoch 15/500\n",
      "31/31 [==============================] - 0s 10ms/step - loss: 7.3479e-04 - val_loss: 0.0024\n",
      "Epoch 16/500\n",
      "31/31 [==============================] - 0s 10ms/step - loss: 7.4956e-04 - val_loss: 0.0023\n",
      "Epoch 17/500\n",
      "31/31 [==============================] - 0s 10ms/step - loss: 7.3121e-04 - val_loss: 0.0019\n",
      "Epoch 18/500\n",
      "31/31 [==============================] - 0s 10ms/step - loss: 6.4945e-04 - val_loss: 0.0018\n",
      "Epoch 19/500\n",
      "31/31 [==============================] - 0s 11ms/step - loss: 6.9067e-04 - val_loss: 0.0018\n",
      "Epoch 20/500\n",
      "31/31 [==============================] - 0s 11ms/step - loss: 7.3076e-04 - val_loss: 0.0017\n",
      "Epoch 21/500\n",
      "31/31 [==============================] - 0s 9ms/step - loss: 6.9089e-04 - val_loss: 0.0017\n",
      "Epoch 22/500\n",
      "31/31 [==============================] - 0s 10ms/step - loss: 7.5389e-04 - val_loss: 0.0017\n",
      "Epoch 23/500\n",
      "31/31 [==============================] - 0s 11ms/step - loss: 7.9551e-04 - val_loss: 0.0017\n",
      "Epoch 24/500\n",
      "31/31 [==============================] - 0s 9ms/step - loss: 6.3491e-04 - val_loss: 0.0018\n",
      "Epoch 25/500\n",
      "31/31 [==============================] - 0s 11ms/step - loss: 7.0778e-04 - val_loss: 0.0016\n",
      "Epoch 26/500\n",
      "31/31 [==============================] - 0s 10ms/step - loss: 6.3071e-04 - val_loss: 0.0016\n",
      "Epoch 27/500\n",
      "31/31 [==============================] - 0s 10ms/step - loss: 8.5220e-04 - val_loss: 0.0018\n",
      "Epoch 28/500\n",
      "31/31 [==============================] - 0s 12ms/step - loss: 9.8997e-04 - val_loss: 0.0022\n",
      "Epoch 29/500\n",
      "31/31 [==============================] - 0s 9ms/step - loss: 0.0010 - val_loss: 0.0021\n",
      "Epoch 30/500\n",
      "31/31 [==============================] - 0s 10ms/step - loss: 0.0011 - val_loss: 0.0016\n",
      "Epoch 31/500\n",
      "31/31 [==============================] - 0s 10ms/step - loss: 0.0011 - val_loss: 0.0018\n",
      "Epoch 32/500\n",
      "31/31 [==============================] - 0s 11ms/step - loss: 0.0011 - val_loss: 0.0019\n",
      "Epoch 33/500\n",
      "31/31 [==============================] - 0s 9ms/step - loss: 0.0012 - val_loss: 0.0017\n",
      "Epoch 34/500\n",
      "31/31 [==============================] - 0s 10ms/step - loss: 0.0011 - val_loss: 0.0017\n",
      "Epoch 35/500\n",
      "31/31 [==============================] - 0s 9ms/step - loss: 9.2062e-04 - val_loss: 0.0016\n",
      "Epoch 36/500\n",
      "31/31 [==============================] - 0s 9ms/step - loss: 8.3325e-04 - val_loss: 0.0019\n",
      "Epoch 37/500\n",
      "31/31 [==============================] - 0s 10ms/step - loss: 8.9708e-04 - val_loss: 0.0019\n",
      "Epoch 38/500\n",
      "31/31 [==============================] - 0s 9ms/step - loss: 8.4821e-04 - val_loss: 0.0018\n",
      "Epoch 39/500\n",
      "31/31 [==============================] - 0s 10ms/step - loss: 8.2430e-04 - val_loss: 0.0019\n",
      "Epoch 40/500\n",
      "31/31 [==============================] - 0s 10ms/step - loss: 7.2539e-04 - val_loss: 0.0017\n",
      "Epoch 41/500\n",
      "31/31 [==============================] - 0s 10ms/step - loss: 5.6055e-04 - val_loss: 0.0016\n",
      "Epoch 42/500\n",
      "31/31 [==============================] - 0s 10ms/step - loss: 5.3452e-04 - val_loss: 0.0019\n",
      "Epoch 43/500\n",
      "31/31 [==============================] - 0s 9ms/step - loss: 6.9556e-04 - val_loss: 0.0017\n",
      "Epoch 44/500\n",
      "31/31 [==============================] - 0s 11ms/step - loss: 7.7688e-04 - val_loss: 0.0015\n",
      "Epoch 45/500\n",
      "31/31 [==============================] - 0s 10ms/step - loss: 6.0833e-04 - val_loss: 0.0018\n",
      "Epoch 46/500\n",
      "31/31 [==============================] - 0s 10ms/step - loss: 5.1266e-04 - val_loss: 0.0014\n",
      "Epoch 47/500\n",
      "31/31 [==============================] - 0s 9ms/step - loss: 5.2081e-04 - val_loss: 0.0012\n",
      "Epoch 48/500\n",
      "31/31 [==============================] - 0s 11ms/step - loss: 5.2882e-04 - val_loss: 0.0013\n",
      "Epoch 49/500\n",
      "31/31 [==============================] - 0s 10ms/step - loss: 5.0542e-04 - val_loss: 0.0014\n",
      "Epoch 50/500\n",
      "31/31 [==============================] - 0s 10ms/step - loss: 4.7175e-04 - val_loss: 0.0012\n",
      "Epoch 51/500\n",
      "31/31 [==============================] - 0s 10ms/step - loss: 4.8758e-04 - val_loss: 0.0012\n",
      "Epoch 52/500\n",
      "31/31 [==============================] - 0s 10ms/step - loss: 4.9413e-04 - val_loss: 0.0016\n",
      "Epoch 53/500\n",
      "31/31 [==============================] - 0s 10ms/step - loss: 4.7640e-04 - val_loss: 0.0012\n",
      "Epoch 54/500\n",
      "31/31 [==============================] - 0s 10ms/step - loss: 5.4400e-04 - val_loss: 0.0014\n",
      "Epoch 55/500\n",
      "31/31 [==============================] - 0s 10ms/step - loss: 4.9290e-04 - val_loss: 0.0013\n",
      "Epoch 56/500\n",
      "31/31 [==============================] - 0s 11ms/step - loss: 4.4401e-04 - val_loss: 0.0011\n",
      "Epoch 57/500\n",
      "31/31 [==============================] - 0s 8ms/step - loss: 5.5156e-04 - val_loss: 0.0012\n",
      "Epoch 58/500\n",
      "31/31 [==============================] - 0s 11ms/step - loss: 5.5631e-04 - val_loss: 0.0013\n",
      "Epoch 59/500\n",
      "31/31 [==============================] - 0s 10ms/step - loss: 4.9662e-04 - val_loss: 0.0012\n",
      "Epoch 60/500\n",
      "31/31 [==============================] - 0s 10ms/step - loss: 4.4969e-04 - val_loss: 0.0016\n",
      "Epoch 61/500\n",
      "31/31 [==============================] - 0s 10ms/step - loss: 4.6587e-04 - val_loss: 0.0011\n",
      "Epoch 62/500\n",
      "31/31 [==============================] - 0s 10ms/step - loss: 4.4857e-04 - val_loss: 0.0012\n",
      "Epoch 63/500\n",
      "31/31 [==============================] - 0s 10ms/step - loss: 4.6851e-04 - val_loss: 0.0018\n",
      "Epoch 64/500\n",
      "31/31 [==============================] - 0s 10ms/step - loss: 4.6872e-04 - val_loss: 0.0016\n",
      "Epoch 65/500\n",
      "31/31 [==============================] - 0s 10ms/step - loss: 5.4343e-04 - val_loss: 0.0011\n",
      "Epoch 66/500\n",
      "31/31 [==============================] - 0s 12ms/step - loss: 7.4124e-04 - val_loss: 0.0012\n",
      "Epoch 67/500\n",
      "31/31 [==============================] - 0s 11ms/step - loss: 6.0212e-04 - val_loss: 0.0012\n",
      "Epoch 68/500\n",
      "31/31 [==============================] - 0s 9ms/step - loss: 5.6647e-04 - val_loss: 0.0020\n",
      "Epoch 69/500\n",
      "31/31 [==============================] - 0s 9ms/step - loss: 5.5453e-04 - val_loss: 0.0022\n",
      "Epoch 70/500\n",
      "31/31 [==============================] - 0s 10ms/step - loss: 7.8590e-04 - val_loss: 0.0014\n",
      "Epoch 71/500\n",
      "31/31 [==============================] - 0s 10ms/step - loss: 4.5171e-04 - val_loss: 0.0016\n",
      "Epoch 72/500\n",
      "31/31 [==============================] - 0s 8ms/step - loss: 6.0623e-04 - val_loss: 0.0014\n",
      "Epoch 73/500\n",
      "31/31 [==============================] - 0s 9ms/step - loss: 4.8761e-04 - val_loss: 0.0013\n",
      "Epoch 74/500\n",
      "31/31 [==============================] - 0s 10ms/step - loss: 4.5779e-04 - val_loss: 0.0013\n",
      "Epoch 75/500\n",
      "31/31 [==============================] - 0s 9ms/step - loss: 4.3625e-04 - val_loss: 0.0016\n",
      "Model: \"sequential_27\"\n",
      "_________________________________________________________________\n",
      "Layer (type)                 Output Shape              Param #   \n",
      "=================================================================\n",
      "lstm_35 (LSTM)               (None, 128)               81408     \n",
      "_________________________________________________________________\n",
      "dropout_34 (Dropout)         (None, 128)               0         \n",
      "_________________________________________________________________\n",
      "dense_31 (Dense)             (None, 1)                 129       \n",
      "=================================================================\n",
      "Total params: 81,537\n",
      "Trainable params: 81,537\n",
      "Non-trainable params: 0\n",
      "_________________________________________________________________\n"
     ]
    }
   ],
   "source": [
    "# Построим необходимую модель нейросети: будем использовать LSTM\n",
    "\n",
    "# Предсказываем временные ряды\n",
    "model = Sequential()\n",
    "model.add(LSTM(128, input_shape=(X_train.shape[1], X_train.shape[2])))\n",
    "\n",
    "# Нужно для исключения переобучения: \"выбрасываем\" на некоторых итерациях случайные нейроны\n",
    "model.add(Dropout(0.2))\n",
    "\n",
    "# На выходе должен быть прогноз по 1 дню\n",
    "model.add(Dense(1))\n",
    "\n",
    "# Функция ошибок mse, оптимизатор ADAM\n",
    "model.compile(loss='mean_squared_error', optimizer='adam')\n",
    "\n",
    "# Начнем процесс тренировки модели:\n",
    "history = model.fit(X_train, Y_train, epochs=500, batch_size=32, validation_data=(X_test, Y_test), \n",
    "                    callbacks=[EarlyStopping(monitor='val_loss', patience=10)], verbose=1, shuffle=False)\n",
    "\n",
    "model.summary()"
   ]
  },
  {
   "cell_type": "markdown",
   "metadata": {},
   "source": [
    "## Прогноз"
   ]
  },
  {
   "cell_type": "code",
   "execution_count": 497,
   "metadata": {},
   "outputs": [],
   "source": [
    "train_predict = model.predict(X_train)\n",
    "test_predict = model.predict(X_test)"
   ]
  },
  {
   "cell_type": "code",
   "execution_count": 498,
   "metadata": {},
   "outputs": [],
   "source": [
    "# Мы до этого сжали данные в отрезок от 0 до 1, теперь вернем их в исходное состояние\n",
    "train_predict = scaler.inverse_transform(train_predict)\n",
    "Y_train = scaler.inverse_transform([Y_train])\n",
    "test_predict = scaler.inverse_transform(test_predict)\n",
    "Y_test = scaler.inverse_transform([Y_test])"
   ]
  },
  {
   "cell_type": "code",
   "execution_count": 499,
   "metadata": {},
   "outputs": [
    {
     "name": "stdout",
     "output_type": "stream",
     "text": [
      "Train Mean Absolute Error: 14.358716801578465\n",
      "Train Root Mean Squared Error: 19.850046079662608\n",
      "Test Mean Absolute Error: 34.70332029872818\n",
      "Test Root Mean Squared Error: 43.71936011004853\n"
     ]
    }
   ],
   "source": [
    "# Выведем ошибки модели\n",
    "print('Train Mean Absolute Error:', mean_absolute_error(Y_train[0], train_predict[:,0]))\n",
    "print('Train Root Mean Squared Error:',np.sqrt(mean_squared_error(Y_train[0], train_predict[:,0])))\n",
    "print('Test Mean Absolute Error:', mean_absolute_error(Y_test[0], test_predict[:,0]))\n",
    "print('Test Root Mean Squared Error:',np.sqrt(mean_squared_error(Y_test[0], test_predict[:,0])))"
   ]
  },
  {
   "cell_type": "code",
   "execution_count": 500,
   "metadata": {},
   "outputs": [
    {
     "data": {
      "image/png": "[encoded data removed]",
      "text/plain": [
       "<Figure size 576x288 with 1 Axes>"
      ]
     },
     "metadata": {
      "needs_background": "light"
     },
     "output_type": "display_data"
    }
   ],
   "source": [
    "# Выведем функцию ошибок от количества итераций обучения модели\n",
    "# Видно, что после 10 улучшение прогноза с каждой итерацией обучения снижается\n",
    "\n",
    "plt.figure(figsize=(8,4))\n",
    "plt.plot(history.history['loss'], label='Train Loss')\n",
    "plt.plot(history.history['val_loss'], label='Test Loss')\n",
    "plt.title('model loss')\n",
    "plt.ylabel('loss')\n",
    "plt.xlabel('epochs')\n",
    "plt.legend(loc='upper right')\n",
    "plt.show();\n"
   ]
  },
  {
   "cell_type": "code",
   "execution_count": 501,
   "metadata": {},
   "outputs": [
    {
     "data": {
      "image/png": "[encoded data removed]",
      "text/plain": [
       "<Figure size 576x288 with 1 Axes>"
      ]
     },
     "metadata": {
      "needs_background": "light"
     },
     "output_type": "display_data"
    }
   ],
   "source": [
    "# Посмотрим на 200 выборок из тестовых данных\n",
    "aa=[x for x in range(200)]\n",
    "\n",
    "# Построим график и посмотрим, насколько хорошо сеть предсказывает тестовую выборку\n",
    "plt.figure(figsize=(8,4))\n",
    "plt.plot(aa, Y_test[0][:200], marker='.', label=\"actual\")\n",
    "plt.plot(aa, test_predict[:,0][:200], 'r', label=\"prediction\")\n",
    "plt.tight_layout()\n",
    "sns.despine(top=True)\n",
    "plt.subplots_adjust(left=0.07)\n",
    "plt.ylabel('Global_active_power', size=15)\n",
    "plt.xlabel('Time step', size=15)\n",
    "plt.legend(fontsize=15)\n",
    "plt.show();"
   ]
  },
  {
   "cell_type": "code",
   "execution_count": null,
   "metadata": {},
   "outputs": [],
   "source": []
  },
  {
   "cell_type": "code",
   "execution_count": null,
   "metadata": {},
   "outputs": [],
   "source": []
  }
 ],
 "metadata": {
  "kernelspec": {
   "display_name": "Python 3",
   "language": "python",
   "name": "python3"
  },
  "language_info": {
   "codemirror_mode": {
    "name": "ipython",
    "version": 3
   },
   "file_extension": ".py",
   "mimetype": "text/x-python",
   "name": "python",
   "nbconvert_exporter": "python",
   "pygments_lexer": "ipython3",
   "version": "3.6.10"
  }
 },
 "nbformat": 4,
 "nbformat_minor": 4
}
